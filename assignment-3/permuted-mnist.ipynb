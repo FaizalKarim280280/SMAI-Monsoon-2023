{
 "cells": [
  {
   "cell_type": "code",
   "execution_count": 2,
   "metadata": {},
   "outputs": [
    {
     "data": {
      "text/plain": [
       "('1.21.2', 'cuda')"
      ]
     },
     "execution_count": 2,
     "metadata": {},
     "output_type": "execute_result"
    }
   ],
   "source": [
    "import numpy as np\n",
    "import pandas as pd\n",
    "import matplotlib.pyplot as plt\n",
    "import seaborn as sea\n",
    "from tqdm.notebook import tqdm\n",
    "import os\n",
    "import torch\n",
    "import torch.nn as nn\n",
    "from torch.utils.data import Dataset, DataLoader\n",
    "import torchvision\n",
    "from torchvision import transforms\n",
    "import cv2\n",
    "import wandb\n",
    "\n",
    "from sklearn.datasets import fetch_openml\n",
    "from scipy.io import loadmat\n",
    "\n",
    "device = 'cuda' if torch.cuda.is_available() else 'cpu'\n",
    "\n",
    "plt.style.use('seaborn')\n",
    "np.__version__, device"
   ]
  },
  {
   "cell_type": "code",
   "execution_count": 4,
   "metadata": {},
   "outputs": [
    {
     "data": {
      "text/plain": [
       "((60000, 28, 28), (60000,), (10000, 28, 28), (10000,))"
      ]
     },
     "execution_count": 4,
     "metadata": {},
     "output_type": "execute_result"
    }
   ],
   "source": [
    "PATH = '/scratch/fk/permuted_mnist.npz'\n",
    "\n",
    "def load_data(PATH, split):\n",
    "    data = list(np.load(PATH).values())\n",
    "    return data[split], data[split + 1]\n",
    " \n",
    "X_train, y_train = load_data(PATH, split=0)\n",
    "X_val, y_val = load_data(PATH, split=2)\n",
    "\n",
    "X_train.shape, y_train.shape, X_val.shape, y_val.shape\n",
    "\n",
    " "
   ]
  },
  {
   "cell_type": "code",
   "execution_count": 5,
   "metadata": {},
   "outputs": [],
   "source": [
    "def load_image(file):\n",
    "    img = cv2.resize(file, (32, 32))\n",
    "    return img\n",
    "\n",
    "\n",
    "transform = transforms.Compose([\n",
    "    transforms.ToTensor(),\n",
    "    transforms.Normalize(0, 1)\n",
    "])\n",
    "\n",
    "class PermtedMNISTDataset:\n",
    "    def __init__(self, X, y, transform=None):\n",
    "        self.X, self.y = X, y\n",
    "        self.n_samples = len(self.X)\n",
    "        self.transform = transform \n",
    "        \n",
    "    def __len__(self):\n",
    "        return self.n_samples\n",
    "\n",
    "    def __getitem__(self, idx):\n",
    "        x = load_image(self.X[idx])\n",
    "        if self.transform:\n",
    "            x = self.transform(x)\n",
    "            \n",
    "        y = self.y[idx]        \n",
    "        return x, torch.tensor(y, dtype=torch.int64)\n",
    "        "
   ]
  },
  {
   "cell_type": "code",
   "execution_count": 6,
   "metadata": {},
   "outputs": [],
   "source": [
    "train_dataset = PermtedMNISTDataset(X_train, y_train, transform)\n",
    "val_dataset = PermtedMNISTDataset(X_val, y_val, transform)\n",
    "\n",
    "batch_size = 512\n",
    "\n",
    "train_loader = DataLoader(train_dataset, batch_size=batch_size, shuffle=True)\n",
    "val_loader = DataLoader(val_dataset, batch_size=batch_size, shuffle=False)\n",
    "\n"
   ]
  },
  {
   "cell_type": "code",
   "execution_count": 7,
   "metadata": {},
   "outputs": [
    {
     "data": {
      "text/plain": [
       "(torch.Size([512, 1, 32, 32]), torch.Size([512]))"
      ]
     },
     "execution_count": 7,
     "metadata": {},
     "output_type": "execute_result"
    }
   ],
   "source": [
    "a, b = next(iter(train_loader))\n",
    "\n",
    "a.shape, b.shape"
   ]
  },
  {
   "cell_type": "code",
   "execution_count": 27,
   "metadata": {},
   "outputs": [],
   "source": [
    "class MlpModel(nn.Module):\n",
    "    def __init__(self):\n",
    "        super().__init__()\n",
    "        self.layers = nn.ModuleList(\n",
    "            [\n",
    "                self.get_block(1024, 512),\n",
    "                self.get_block(512, 256),\n",
    "                self.get_block(256, 128),\n",
    "                self.get_block(128, 64)       \n",
    "            ]\n",
    "        )\n",
    "        \n",
    "        self.drop = nn.Dropout(0.2)\n",
    "        self.classiifer = nn.Linear(64, 10)\n",
    "    \n",
    "    def get_block(self, in_c, out_c):\n",
    "        return nn.Sequential(\n",
    "            nn.Linear(in_c, out_c, bias=False),\n",
    "            nn.BatchNorm1d(out_c),\n",
    "            nn.ReLU(),\n",
    "            nn.Dropout(0.2)\n",
    "        )    \n",
    "        \n",
    "    def forward(self, x):\n",
    "        x = x.view(-1, 32*32)\n",
    "        \n",
    "        for i, layer in enumerate(self.layers):\n",
    "            x = layer(x)\n",
    "            \n",
    "        return self.classiifer(x)\n",
    "    \n"
   ]
  },
  {
   "cell_type": "code",
   "execution_count": 29,
   "metadata": {},
   "outputs": [],
   "source": [
    "from sklearn.metrics import accuracy_score\n",
    "\n",
    "class Trainer:\n",
    "    def __init__(self,\n",
    "                 model,\n",
    "                 train_loader,\n",
    "                 val_loader,\n",
    "                 device,\n",
    "                 loss_fxn, \n",
    "                 logger,\n",
    "                 params):\n",
    "\n",
    "        self.device = device\n",
    "        self.params = params        \n",
    "        self.model = model.to(self.device)\n",
    "        self.train_loader = train_loader\n",
    "        self.val_loader = val_loader\n",
    "        self.loss_fxn = loss_fxn\n",
    "        self.optimizer = torch.optim.Adam(self.model.parameters(), lr = self.params['lr'])\n",
    "        self.logger = logger\n",
    "        \n",
    "    def training_step(self, x, y):\n",
    "        y_pred = self.model(x)\n",
    "        loss = self.loss_fxn(y_pred, y)\n",
    "        y_pred_bin = (y_pred > 0.5).to(torch.int64)\n",
    "        acc = accuracy_score(torch.argmax(y_pred_bin.detach().cpu(), -1), y.detach().cpu())\n",
    "        \n",
    "        self.optimizer.zero_grad()\n",
    "        loss.backward()\n",
    "        self.optimizer.step()\n",
    "        \n",
    "        return loss, acc\n",
    "    \n",
    "    def val_step(self, x, y):\n",
    "        with torch.no_grad():\n",
    "            y_pred = self.model(x)\n",
    "            \n",
    "        loss = self.loss_fxn(y_pred, y)\n",
    "        y_pred_bin = (y_pred > 0.5).to(torch.int64)\n",
    "        acc = accuracy_score(torch.argmax(y_pred_bin.detach().cpu(), -1), y.detach().cpu())\n",
    "        \n",
    "        return loss, acc\n",
    "    \n",
    "    def go_over_one_batch(self, loader, step_fxn):\n",
    "        loss, acc = 0, 0\n",
    "        for x, y in tqdm(loader):\n",
    "            x, y = x.to(self.device), y.to(self.device)\n",
    "            l, a = step_fxn(x, y)\n",
    "            loss, acc = loss + l, acc + a\n",
    "            \n",
    "        return loss/len(loader), acc/len(loader)\n",
    "    \n",
    "    def train(self, epochs = 10):\n",
    "        for epoch in tqdm(range(epochs)):\n",
    "            \n",
    "            train_loss, train_acc = self.go_over_one_batch(self.train_loader, self.training_step)\n",
    "            val_loss, val_acc = self.go_over_one_batch(self.val_loader, self.val_step)\n",
    "        \n",
    "            print(f\"[Epoch: {epoch}] Training:[loss:{train_loss:.4f} acc:{train_acc:.3f}] Val:[loss:{val_loss:.4f} acc:{val_acc:.3f}]\" )\n",
    "            if self.logger:\n",
    "                self.logger.log({\n",
    "                    'train_loss':train_loss,\n",
    "                    'val_loss':val_loss,\n",
    "                    'train_acc': train_acc,\n",
    "                    'val_acc': val_acc\n",
    "                })\n",
    "         \n",
    "        if self.logger:       \n",
    "            self.logger.finish()\n",
    "            "
   ]
  },
  {
   "cell_type": "code",
   "execution_count": null,
   "metadata": {},
   "outputs": [],
   "source": [
    "params = {\n",
    "    'lr' : 1e-3,\n",
    "    'batch_size':512,\n",
    "    'epoch': 10,    \n",
    "}\n",
    "\n",
    "\n",
    "wandb.init(\n",
    "    project=\"SMAI-A3-permuted-mnist-ANN\",\n",
    "    config=params,\n",
    "    name=f\"3-layer|tanh\"\n",
    ")\n",
    "\n",
    "trainer = Trainer(\n",
    "    model = MlpModel(),\n",
    "    train_loader = train_loader,\n",
    "    val_loader = val_loader, \n",
    "    device = device, \n",
    "    loss_fxn = nn.CrossEntropyLoss(),\n",
    "    logger=wandb,\n",
    "    params=params\n",
    ")\n",
    "\n",
    "trainer.train()"
   ]
  },
  {
   "cell_type": "code",
   "execution_count": 30,
   "metadata": {},
   "outputs": [
    {
     "data": {
      "application/vnd.jupyter.widget-view+json": {
       "model_id": "2fd40d1096ac48b090465f1c9fd1584b",
       "version_major": 2,
       "version_minor": 0
      },
      "text/plain": [
       "  0%|          | 0/10 [00:00<?, ?it/s]"
      ]
     },
     "metadata": {},
     "output_type": "display_data"
    },
    {
     "data": {
      "application/vnd.jupyter.widget-view+json": {
       "model_id": "b408026703c643e280e68b58c164a341",
       "version_major": 2,
       "version_minor": 0
      },
      "text/plain": [
       "  0%|          | 0/118 [00:00<?, ?it/s]"
      ]
     },
     "metadata": {},
     "output_type": "display_data"
    },
    {
     "data": {
      "application/vnd.jupyter.widget-view+json": {
       "model_id": "5177269d062e46c9b74db3de780ee00f",
       "version_major": 2,
       "version_minor": 0
      },
      "text/plain": [
       "  0%|          | 0/20 [00:00<?, ?it/s]"
      ]
     },
     "metadata": {},
     "output_type": "display_data"
    },
    {
     "name": "stdout",
     "output_type": "stream",
     "text": [
      "[Epoch: 0] Training:[loss:0.5357 acc:0.534] Val:[loss:0.2692 acc:0.533]\n"
     ]
    },
    {
     "data": {
      "application/vnd.jupyter.widget-view+json": {
       "model_id": "db0c31e2088641dc81e3c648fd62d364",
       "version_major": 2,
       "version_minor": 0
      },
      "text/plain": [
       "  0%|          | 0/118 [00:00<?, ?it/s]"
      ]
     },
     "metadata": {},
     "output_type": "display_data"
    },
    {
     "data": {
      "application/vnd.jupyter.widget-view+json": {
       "model_id": "b8c7efd15b3c4a84a0091e7ef03b15de",
       "version_major": 2,
       "version_minor": 0
      },
      "text/plain": [
       "  0%|          | 0/20 [00:00<?, ?it/s]"
      ]
     },
     "metadata": {},
     "output_type": "display_data"
    },
    {
     "name": "stdout",
     "output_type": "stream",
     "text": [
      "[Epoch: 1] Training:[loss:0.2204 acc:0.517] Val:[loss:0.1933 acc:0.515]\n"
     ]
    },
    {
     "data": {
      "application/vnd.jupyter.widget-view+json": {
       "model_id": "3aba9a9be1fa4606892469eccf2be1aa",
       "version_major": 2,
       "version_minor": 0
      },
      "text/plain": [
       "  0%|          | 0/118 [00:00<?, ?it/s]"
      ]
     },
     "metadata": {},
     "output_type": "display_data"
    },
    {
     "data": {
      "application/vnd.jupyter.widget-view+json": {
       "model_id": "ecbd81f1658445c49104c3e30f078789",
       "version_major": 2,
       "version_minor": 0
      },
      "text/plain": [
       "  0%|          | 0/20 [00:00<?, ?it/s]"
      ]
     },
     "metadata": {},
     "output_type": "display_data"
    },
    {
     "name": "stdout",
     "output_type": "stream",
     "text": [
      "[Epoch: 2] Training:[loss:0.1638 acc:0.504] Val:[loss:0.1624 acc:0.514]\n"
     ]
    },
    {
     "data": {
      "application/vnd.jupyter.widget-view+json": {
       "model_id": "66d12a811ca24e8cadaf875234ded6fb",
       "version_major": 2,
       "version_minor": 0
      },
      "text/plain": [
       "  0%|          | 0/118 [00:00<?, ?it/s]"
      ]
     },
     "metadata": {},
     "output_type": "display_data"
    },
    {
     "data": {
      "application/vnd.jupyter.widget-view+json": {
       "model_id": "070c0d076a0448de8487bebd6482919f",
       "version_major": 2,
       "version_minor": 0
      },
      "text/plain": [
       "  0%|          | 0/20 [00:00<?, ?it/s]"
      ]
     },
     "metadata": {},
     "output_type": "display_data"
    },
    {
     "name": "stdout",
     "output_type": "stream",
     "text": [
      "[Epoch: 3] Training:[loss:0.1307 acc:0.496] Val:[loss:0.1456 acc:0.475]\n"
     ]
    },
    {
     "data": {
      "application/vnd.jupyter.widget-view+json": {
       "model_id": "355984a15b3f48e9a95a365f52993245",
       "version_major": 2,
       "version_minor": 0
      },
      "text/plain": [
       "  0%|          | 0/118 [00:00<?, ?it/s]"
      ]
     },
     "metadata": {},
     "output_type": "display_data"
    },
    {
     "data": {
      "application/vnd.jupyter.widget-view+json": {
       "model_id": "865ebaa33ea1495db7b5f828674b253b",
       "version_major": 2,
       "version_minor": 0
      },
      "text/plain": [
       "  0%|          | 0/20 [00:00<?, ?it/s]"
      ]
     },
     "metadata": {},
     "output_type": "display_data"
    },
    {
     "name": "stdout",
     "output_type": "stream",
     "text": [
      "[Epoch: 4] Training:[loss:0.1128 acc:0.495] Val:[loss:0.1480 acc:0.495]\n"
     ]
    },
    {
     "data": {
      "application/vnd.jupyter.widget-view+json": {
       "model_id": "d5af7b4bd020428ebe1826760711c2d4",
       "version_major": 2,
       "version_minor": 0
      },
      "text/plain": [
       "  0%|          | 0/118 [00:00<?, ?it/s]"
      ]
     },
     "metadata": {},
     "output_type": "display_data"
    },
    {
     "data": {
      "application/vnd.jupyter.widget-view+json": {
       "model_id": "9b4069ba994f44619736c00401d6aa8e",
       "version_major": 2,
       "version_minor": 0
      },
      "text/plain": [
       "  0%|          | 0/20 [00:00<?, ?it/s]"
      ]
     },
     "metadata": {},
     "output_type": "display_data"
    },
    {
     "name": "stdout",
     "output_type": "stream",
     "text": [
      "[Epoch: 5] Training:[loss:0.0963 acc:0.482] Val:[loss:0.1303 acc:0.491]\n"
     ]
    },
    {
     "data": {
      "application/vnd.jupyter.widget-view+json": {
       "model_id": "b6030107c250415e9eda97317727d6b4",
       "version_major": 2,
       "version_minor": 0
      },
      "text/plain": [
       "  0%|          | 0/118 [00:00<?, ?it/s]"
      ]
     },
     "metadata": {},
     "output_type": "display_data"
    },
    {
     "data": {
      "application/vnd.jupyter.widget-view+json": {
       "model_id": "9f88bf2842d74bc0820ce621e7b7b7ab",
       "version_major": 2,
       "version_minor": 0
      },
      "text/plain": [
       "  0%|          | 0/20 [00:00<?, ?it/s]"
      ]
     },
     "metadata": {},
     "output_type": "display_data"
    },
    {
     "name": "stdout",
     "output_type": "stream",
     "text": [
      "[Epoch: 6] Training:[loss:0.0869 acc:0.482] Val:[loss:0.1215 acc:0.480]\n"
     ]
    },
    {
     "data": {
      "application/vnd.jupyter.widget-view+json": {
       "model_id": "720e7b0d2574421f924078db7efac8c3",
       "version_major": 2,
       "version_minor": 0
      },
      "text/plain": [
       "  0%|          | 0/118 [00:00<?, ?it/s]"
      ]
     },
     "metadata": {},
     "output_type": "display_data"
    },
    {
     "data": {
      "application/vnd.jupyter.widget-view+json": {
       "model_id": "a19db9e7d87341d7ac2d1cad19d35fdd",
       "version_major": 2,
       "version_minor": 0
      },
      "text/plain": [
       "  0%|          | 0/20 [00:00<?, ?it/s]"
      ]
     },
     "metadata": {},
     "output_type": "display_data"
    },
    {
     "name": "stdout",
     "output_type": "stream",
     "text": [
      "[Epoch: 7] Training:[loss:0.0752 acc:0.481] Val:[loss:0.1165 acc:0.471]\n"
     ]
    },
    {
     "data": {
      "application/vnd.jupyter.widget-view+json": {
       "model_id": "e50d1e289aba44e783cd4e463e902f5f",
       "version_major": 2,
       "version_minor": 0
      },
      "text/plain": [
       "  0%|          | 0/118 [00:00<?, ?it/s]"
      ]
     },
     "metadata": {},
     "output_type": "display_data"
    },
    {
     "data": {
      "application/vnd.jupyter.widget-view+json": {
       "model_id": "376e873e76df4e38b6fe047d5498ae80",
       "version_major": 2,
       "version_minor": 0
      },
      "text/plain": [
       "  0%|          | 0/20 [00:00<?, ?it/s]"
      ]
     },
     "metadata": {},
     "output_type": "display_data"
    },
    {
     "name": "stdout",
     "output_type": "stream",
     "text": [
      "[Epoch: 8] Training:[loss:0.0690 acc:0.479] Val:[loss:0.1070 acc:0.488]\n"
     ]
    },
    {
     "data": {
      "application/vnd.jupyter.widget-view+json": {
       "model_id": "7fc75deac7c042c5949169e7764e425a",
       "version_major": 2,
       "version_minor": 0
      },
      "text/plain": [
       "  0%|          | 0/118 [00:00<?, ?it/s]"
      ]
     },
     "metadata": {},
     "output_type": "display_data"
    },
    {
     "data": {
      "application/vnd.jupyter.widget-view+json": {
       "model_id": "be532d7f43c946698e09356e2c3e2d4a",
       "version_major": 2,
       "version_minor": 0
      },
      "text/plain": [
       "  0%|          | 0/20 [00:00<?, ?it/s]"
      ]
     },
     "metadata": {},
     "output_type": "display_data"
    },
    {
     "name": "stdout",
     "output_type": "stream",
     "text": [
      "[Epoch: 9] Training:[loss:0.0628 acc:0.468] Val:[loss:0.1153 acc:0.488]\n"
     ]
    },
    {
     "data": {
      "application/vnd.jupyter.widget-view+json": {
       "model_id": "fb5b9356c33e47b789d1b0e950ec3ee1",
       "version_major": 2,
       "version_minor": 0
      },
      "text/plain": [
       "  0%|          | 0/118 [00:00<?, ?it/s]"
      ]
     },
     "metadata": {},
     "output_type": "display_data"
    },
    {
     "name": "stdout",
     "output_type": "stream",
     "text": [
      "Training accuracy: 0.9828411899717514\n"
     ]
    },
    {
     "data": {
      "application/vnd.jupyter.widget-view+json": {
       "model_id": "15146de22bcf43429b93cc15fbc49e47",
       "version_major": 2,
       "version_minor": 0
      },
      "text/plain": [
       "  0%|          | 0/20 [00:00<?, ?it/s]"
      ]
     },
     "metadata": {},
     "output_type": "display_data"
    },
    {
     "name": "stdout",
     "output_type": "stream",
     "text": [
      "Validation accuracy 0.9650390625\n"
     ]
    }
   ],
   "source": [
    "def test_model(model, loader):\n",
    "    acc = 0\n",
    "    for x, y in tqdm(loader):\n",
    "        x, y = x.to(device), y.to(device)\n",
    "        with torch.no_grad():\n",
    "            y_pred = model(x)\n",
    "            acc += accuracy_score(torch.argmax(y_pred.detach().cpu(), -1), y.detach().cpu())\n",
    "    \n",
    "    return acc/len(loader)\n",
    "\n",
    "params = {\n",
    "    'lr' : 1e-3,\n",
    "    'batch_size':512,\n",
    "    'epoch': 10,    \n",
    "}\n",
    "\n",
    "trainer = Trainer(\n",
    "    model = MlpModel(),\n",
    "    train_loader = train_loader,\n",
    "    val_loader = val_loader, \n",
    "    device = device, \n",
    "    loss_fxn = nn.CrossEntropyLoss(),\n",
    "    logger=None,\n",
    "    params=params\n",
    ")\n",
    "\n",
    "trainer.train()\n"
   ]
  },
  {
   "cell_type": "code",
   "execution_count": 32,
   "metadata": {},
   "outputs": [],
   "source": [
    "class CNNModel(nn.Module):\n",
    "    def __init__(self, params):\n",
    "        super().__init__()\n",
    "        self.params = params\n",
    "                \n",
    "        self.layers = nn.ModuleList(\n",
    "            [\n",
    "                self.get_block(1, 32, kernel_size=self.params['kernel_size'], padding=self.params['padding']), # 32, 16, 16\n",
    "                self.get_block(32, 64, kernel_size=self.params['kernel_size'], padding=self.params['padding']), # 64, 8, 8 \n",
    "                self.get_block(64, 128, kernel_size=self.params['kernel_size'], padding=self.params['padding']), # 128, 4, 4\n",
    "                self.get_block(128, 256, kernel_size=self.params['kernel_size'], padding=self.params['padding']), # 256, 2, 2\n",
    "            ]\n",
    "        )\n",
    "        \n",
    "        self.fc1 = nn.Linear(256 * 2 * 2, 256 * 1 * 1)\n",
    "        self.fc2 = nn.Linear(256, 128)\n",
    "        self.fc3 = nn.Linear(128, 10)\n",
    "        self.drop = nn.Dropout(0.2)\n",
    "        \n",
    "    def get_block(self, in_c, out_c, kernel_size=3, padding=1):\n",
    "        return nn.Sequential(\n",
    "            nn.Conv2d(in_c, in_c, kernel_size=kernel_size, stride=1, padding=padding, bias=not self.params['batchnorm']),\n",
    "            nn.BatchNorm2d(in_c) if self.params['batchnorm'] else nn.Identity(),\n",
    "            nn.ReLU(),\n",
    "            \n",
    "            nn.Conv2d(in_c, out_c, kernel_size=kernel_size, stride=1, padding=padding, bias=not self.params['batchnorm']),\n",
    "            nn.BatchNorm2d(out_c) if self.params['batchnorm'] else nn.Identity(),\n",
    "            nn.ReLU(),\n",
    "            \n",
    "            nn.MaxPool2d(2),\n",
    "            nn.Dropout(0.2) if self.params['dropout'] else nn.Identity()\n",
    "        )\n",
    "        \n",
    "    def forward(self, x):\n",
    "        for layer in self.layers:\n",
    "            x = layer(x)\n",
    "            \n",
    "        x = x.view(-1, 256*2*2)\n",
    "        x = self.drop(nn.LeakyReLU()(self.fc1(x)))\n",
    "        x = self.drop(nn.LeakyReLU()(self.fc2(x)))\n",
    "        return self.fc3(x)\n",
    "        \n",
    "        "
   ]
  },
  {
   "cell_type": "code",
   "execution_count": 34,
   "metadata": {},
   "outputs": [
    {
     "data": {
      "text/html": [
       "Finishing last run (ID:hq1axk09) before initializing another..."
      ],
      "text/plain": [
       "<IPython.core.display.HTML object>"
      ]
     },
     "metadata": {},
     "output_type": "display_data"
    },
    {
     "data": {
      "text/html": [
       "<br/>Waiting for W&B process to finish, PID 35090... <strong style=\"color:green\">(success).</strong>"
      ],
      "text/plain": [
       "<IPython.core.display.HTML object>"
      ]
     },
     "metadata": {},
     "output_type": "display_data"
    },
    {
     "data": {
      "application/vnd.jupyter.widget-view+json": {
       "model_id": "ced34e6c2503408e948f6f3d64210fd6",
       "version_major": 2,
       "version_minor": 0
      },
      "text/plain": [
       "VBox(children=(Label(value=' 0.00MB of 0.00MB uploaded (0.00MB deduped)\\r'), FloatProgress(value=1.0, max=1.0)…"
      ]
     },
     "metadata": {},
     "output_type": "display_data"
    },
    {
     "data": {
      "text/html": [
       "<style>\n",
       "    table.wandb td:nth-child(1) { padding: 0 10px; text-align: right }\n",
       "    .wandb-row { display: flex; flex-direction: row; flex-wrap: wrap; width: 100% }\n",
       "    .wandb-col { display: flex; flex-direction: column; flex-basis: 100%; flex: 1; padding: 10px; }\n",
       "    </style>\n",
       "<div class=\"wandb-row\"><div class=\"wandb-col\">\n",
       "</div><div class=\"wandb-col\">\n",
       "</div></div>\n",
       "Synced 6 W&B file(s), 0 media file(s), 0 artifact file(s) and 0 other file(s)\n",
       "<br/>Synced <strong style=\"color:#cdcd00\">lr=0.001</strong>: <a href=\"https://wandb.ai/fk280/SMAI-A3-permuted-mnist-CNN/runs/hq1axk09\" target=\"_blank\">https://wandb.ai/fk280/SMAI-A3-permuted-mnist-CNN/runs/hq1axk09</a><br/>\n",
       "Find logs at: <code>./wandb/run-20231026_190555-hq1axk09/logs</code><br/>\n"
      ],
      "text/plain": [
       "<IPython.core.display.HTML object>"
      ]
     },
     "metadata": {},
     "output_type": "display_data"
    },
    {
     "data": {
      "text/html": [
       "Successfully finished last run (ID:hq1axk09). Initializing new run:<br/>"
      ],
      "text/plain": [
       "<IPython.core.display.HTML object>"
      ]
     },
     "metadata": {},
     "output_type": "display_data"
    },
    {
     "name": "stderr",
     "output_type": "stream",
     "text": [
      "\u001b[34m\u001b[1mwandb\u001b[0m: wandb version 0.15.12 is available!  To upgrade, please run:\n",
      "\u001b[34m\u001b[1mwandb\u001b[0m:  $ pip install wandb --upgrade\n"
     ]
    },
    {
     "data": {
      "text/html": [
       "\n",
       "                    Syncing run <strong><a href=\"https://wandb.ai/fk280/SMAI-A3-permuted-mnist-CNN/runs/2gtadifu\" target=\"_blank\">lr=0.001</a></strong> to <a href=\"https://wandb.ai/fk280/SMAI-A3-permuted-mnist-CNN\" target=\"_blank\">Weights & Biases</a> (<a href=\"https://docs.wandb.com/integrations/jupyter.html\" target=\"_blank\">docs</a>).<br/>\n",
       "\n",
       "                "
      ],
      "text/plain": [
       "<IPython.core.display.HTML object>"
      ]
     },
     "metadata": {},
     "output_type": "display_data"
    },
    {
     "data": {
      "application/vnd.jupyter.widget-view+json": {
       "model_id": "20966832a3f3482fb7996d6c69d8f62b",
       "version_major": 2,
       "version_minor": 0
      },
      "text/plain": [
       "  0%|          | 0/10 [00:00<?, ?it/s]"
      ]
     },
     "metadata": {},
     "output_type": "display_data"
    },
    {
     "data": {
      "application/vnd.jupyter.widget-view+json": {
       "model_id": "4aa567e89ccb412f963d785b309a92ed",
       "version_major": 2,
       "version_minor": 0
      },
      "text/plain": [
       "  0%|          | 0/1875 [00:00<?, ?it/s]"
      ]
     },
     "metadata": {},
     "output_type": "display_data"
    },
    {
     "data": {
      "application/vnd.jupyter.widget-view+json": {
       "model_id": "ef37d888aab641a1a96209ba3587fd9b",
       "version_major": 2,
       "version_minor": 0
      },
      "text/plain": [
       "  0%|          | 0/313 [00:00<?, ?it/s]"
      ]
     },
     "metadata": {},
     "output_type": "display_data"
    },
    {
     "name": "stdout",
     "output_type": "stream",
     "text": [
      "[Epoch: 0] Training:[loss:0.6290 acc:0.475] Val:[loss:0.3883 acc:0.552]\n"
     ]
    },
    {
     "data": {
      "application/vnd.jupyter.widget-view+json": {
       "model_id": "c6fc2488254d4ef1947765186713de71",
       "version_major": 2,
       "version_minor": 0
      },
      "text/plain": [
       "  0%|          | 0/1875 [00:00<?, ?it/s]"
      ]
     },
     "metadata": {},
     "output_type": "display_data"
    },
    {
     "data": {
      "application/vnd.jupyter.widget-view+json": {
       "model_id": "eea536cb98d24be88ca2f24518b21943",
       "version_major": 2,
       "version_minor": 0
      },
      "text/plain": [
       "  0%|          | 0/313 [00:00<?, ?it/s]"
      ]
     },
     "metadata": {},
     "output_type": "display_data"
    },
    {
     "name": "stdout",
     "output_type": "stream",
     "text": [
      "[Epoch: 1] Training:[loss:0.2901 acc:0.539] Val:[loss:0.2481 acc:0.561]\n"
     ]
    },
    {
     "data": {
      "application/vnd.jupyter.widget-view+json": {
       "model_id": "3e47cc76bad845af9b770d44d219325c",
       "version_major": 2,
       "version_minor": 0
      },
      "text/plain": [
       "  0%|          | 0/1875 [00:00<?, ?it/s]"
      ]
     },
     "metadata": {},
     "output_type": "display_data"
    },
    {
     "data": {
      "application/vnd.jupyter.widget-view+json": {
       "model_id": "f36d886591e34a1c99f10173bc225163",
       "version_major": 2,
       "version_minor": 0
      },
      "text/plain": [
       "  0%|          | 0/313 [00:00<?, ?it/s]"
      ]
     },
     "metadata": {},
     "output_type": "display_data"
    },
    {
     "name": "stdout",
     "output_type": "stream",
     "text": [
      "[Epoch: 2] Training:[loss:0.2354 acc:0.565] Val:[loss:0.1988 acc:0.540]\n"
     ]
    },
    {
     "data": {
      "application/vnd.jupyter.widget-view+json": {
       "model_id": "47d3151c43124526a4ce7068d6998b10",
       "version_major": 2,
       "version_minor": 0
      },
      "text/plain": [
       "  0%|          | 0/1875 [00:00<?, ?it/s]"
      ]
     },
     "metadata": {},
     "output_type": "display_data"
    },
    {
     "data": {
      "application/vnd.jupyter.widget-view+json": {
       "model_id": "a0a2ea06305f4bbe86594500f7c2a595",
       "version_major": 2,
       "version_minor": 0
      },
      "text/plain": [
       "  0%|          | 0/313 [00:00<?, ?it/s]"
      ]
     },
     "metadata": {},
     "output_type": "display_data"
    },
    {
     "name": "stdout",
     "output_type": "stream",
     "text": [
      "[Epoch: 3] Training:[loss:0.1984 acc:0.607] Val:[loss:0.2146 acc:0.629]\n"
     ]
    },
    {
     "data": {
      "application/vnd.jupyter.widget-view+json": {
       "model_id": "700cb9f63cf043c5a3fac6dc10087c7e",
       "version_major": 2,
       "version_minor": 0
      },
      "text/plain": [
       "  0%|          | 0/1875 [00:00<?, ?it/s]"
      ]
     },
     "metadata": {},
     "output_type": "display_data"
    },
    {
     "data": {
      "application/vnd.jupyter.widget-view+json": {
       "model_id": "e516cfb8cf9a4134a46492bfb0cec346",
       "version_major": 2,
       "version_minor": 0
      },
      "text/plain": [
       "  0%|          | 0/313 [00:00<?, ?it/s]"
      ]
     },
     "metadata": {},
     "output_type": "display_data"
    },
    {
     "name": "stdout",
     "output_type": "stream",
     "text": [
      "[Epoch: 4] Training:[loss:0.1759 acc:0.654] Val:[loss:0.1805 acc:0.632]\n"
     ]
    },
    {
     "data": {
      "application/vnd.jupyter.widget-view+json": {
       "model_id": "e2b361f54d474598b0ec209b27c4a6f5",
       "version_major": 2,
       "version_minor": 0
      },
      "text/plain": [
       "  0%|          | 0/1875 [00:00<?, ?it/s]"
      ]
     },
     "metadata": {},
     "output_type": "display_data"
    },
    {
     "data": {
      "application/vnd.jupyter.widget-view+json": {
       "model_id": "2f1045d2b9604a31a098dd8674a8cf10",
       "version_major": 2,
       "version_minor": 0
      },
      "text/plain": [
       "  0%|          | 0/313 [00:00<?, ?it/s]"
      ]
     },
     "metadata": {},
     "output_type": "display_data"
    },
    {
     "name": "stdout",
     "output_type": "stream",
     "text": [
      "[Epoch: 5] Training:[loss:0.1574 acc:0.656] Val:[loss:0.1929 acc:0.720]\n"
     ]
    },
    {
     "data": {
      "application/vnd.jupyter.widget-view+json": {
       "model_id": "c0060e58307b46b89f12ad93f4b700c8",
       "version_major": 2,
       "version_minor": 0
      },
      "text/plain": [
       "  0%|          | 0/1875 [00:00<?, ?it/s]"
      ]
     },
     "metadata": {},
     "output_type": "display_data"
    },
    {
     "data": {
      "application/vnd.jupyter.widget-view+json": {
       "model_id": "b9689f8e3bb24522970120642b17c35d",
       "version_major": 2,
       "version_minor": 0
      },
      "text/plain": [
       "  0%|          | 0/313 [00:00<?, ?it/s]"
      ]
     },
     "metadata": {},
     "output_type": "display_data"
    },
    {
     "name": "stdout",
     "output_type": "stream",
     "text": [
      "[Epoch: 6] Training:[loss:0.1413 acc:0.725] Val:[loss:0.1899 acc:0.767]\n"
     ]
    },
    {
     "data": {
      "application/vnd.jupyter.widget-view+json": {
       "model_id": "13a8b87b303d469e9ab9b65b00cfbfff",
       "version_major": 2,
       "version_minor": 0
      },
      "text/plain": [
       "  0%|          | 0/1875 [00:00<?, ?it/s]"
      ]
     },
     "metadata": {},
     "output_type": "display_data"
    },
    {
     "data": {
      "application/vnd.jupyter.widget-view+json": {
       "model_id": "8720e9d8eea242df85e4bca783cd4322",
       "version_major": 2,
       "version_minor": 0
      },
      "text/plain": [
       "  0%|          | 0/313 [00:00<?, ?it/s]"
      ]
     },
     "metadata": {},
     "output_type": "display_data"
    },
    {
     "name": "stdout",
     "output_type": "stream",
     "text": [
      "[Epoch: 7] Training:[loss:0.1320 acc:0.754] Val:[loss:0.1645 acc:0.748]\n"
     ]
    },
    {
     "data": {
      "application/vnd.jupyter.widget-view+json": {
       "model_id": "bbec5dfca8584994b126b8a263342201",
       "version_major": 2,
       "version_minor": 0
      },
      "text/plain": [
       "  0%|          | 0/1875 [00:00<?, ?it/s]"
      ]
     },
     "metadata": {},
     "output_type": "display_data"
    },
    {
     "data": {
      "application/vnd.jupyter.widget-view+json": {
       "model_id": "d7d255f5cfc0487a8472536bb2205c50",
       "version_major": 2,
       "version_minor": 0
      },
      "text/plain": [
       "  0%|          | 0/313 [00:00<?, ?it/s]"
      ]
     },
     "metadata": {},
     "output_type": "display_data"
    },
    {
     "name": "stdout",
     "output_type": "stream",
     "text": [
      "[Epoch: 8] Training:[loss:0.1175 acc:0.796] Val:[loss:0.1661 acc:0.779]\n"
     ]
    },
    {
     "data": {
      "application/vnd.jupyter.widget-view+json": {
       "model_id": "fa7a33a734654b41a2552db7b25b20fe",
       "version_major": 2,
       "version_minor": 0
      },
      "text/plain": [
       "  0%|          | 0/1875 [00:00<?, ?it/s]"
      ]
     },
     "metadata": {},
     "output_type": "display_data"
    },
    {
     "data": {
      "application/vnd.jupyter.widget-view+json": {
       "model_id": "05f8ceb7690a47f881827864062a9ab4",
       "version_major": 2,
       "version_minor": 0
      },
      "text/plain": [
       "  0%|          | 0/313 [00:00<?, ?it/s]"
      ]
     },
     "metadata": {},
     "output_type": "display_data"
    },
    {
     "name": "stdout",
     "output_type": "stream",
     "text": [
      "[Epoch: 9] Training:[loss:0.1082 acc:0.839] Val:[loss:0.2172 acc:0.847]\n"
     ]
    }
   ],
   "source": [
    "\n",
    "params = {\n",
    "    'lr' : 1e-3,\n",
    "    'batch_size':32,\n",
    "    'epoch': 10,\n",
    "    'dropout': True,\n",
    "    'batchnorm': True,\n",
    "    'kernel_size': 3,\n",
    "    'padding': 1,   \n",
    "}\n",
    "\n",
    "\n",
    "wandb.init(\n",
    "    project=\"SMAI-A3-permuted-mnist-CNN\",\n",
    "    config=params,\n",
    "    name=f\"lr={1e-3}\"\n",
    ")\n",
    "\n",
    "train_loader = DataLoader(train_dataset, batch_size=params['batch_size'], shuffle=True)\n",
    "val_loader = DataLoader(val_dataset, batch_size=params['batch_size'], shuffle=False)\n",
    "\n",
    "\n",
    "trainer = Trainer(\n",
    "    model = CNNModel(params),\n",
    "    train_loader = train_loader,\n",
    "    val_loader = val_loader, \n",
    "    device = device, \n",
    "    loss_fxn = nn.CrossEntropyLoss(),\n",
    "    logger=None,\n",
    "    params=params\n",
    ")\n",
    "\n",
    "trainer.train()\n"
   ]
  },
  {
   "cell_type": "markdown",
   "metadata": {},
   "source": [
    "### Analysis\n",
    "\n",
    "1. For Double MNIST, CNN performed better than MLP, obviously because CNN filters were able to learn the features better than the MLP. \n",
    "   For Permuted MNIST, CNN didnot perform better as there was no spatial relationship in the images (since the pixels were permuted randomly). Hence, a MLP, which takes in all the pixels as a \n",
    "   flatten vector was able to learn the permutation mapping and hence performed better.\n",
    "   \n",
    "2. Observations:\n",
    "    1. For Double MNIST, training a MLP is a difficult task, since now it has to classify not one but two digits in the dataset. Generally, classifying a single digit is already difficult \n",
    "    with MLP, so achieving a good accuracy with MLP on this task is quite difficult. But, a CNN could easily learn the features since it uses filters and shared parameters, hence achieiving a\n",
    "    high score.\n",
    "    2. For Permuted MNIST, the images no longer have any spatial relationship since the pixels are permuted randomly. Hence, using a MLP is a good idea for this task, since it doesn't \n",
    "    look for spatial relationships in the data. On the other hand, a CNN model wouldn't work well in this data becuase of no spatial information. This observation is reflected in the loss curves of Section 5 logs too.\n",
    "\n",
    "<break>\n",
    "3. We believe, it is possible to overfit on the Double MNIST data using a CNN because it performs well on the dataset and similarly, we can overfit MLP on the Permuted dataset. This can be \n",
    "   experimented by training the models for a large number of epochs (this couldn't be completed because of lack of compute power).\n",
    "\n"
   ]
  },
  {
   "cell_type": "code",
   "execution_count": null,
   "metadata": {},
   "outputs": [],
   "source": []
  }
 ],
 "metadata": {
  "kernelspec": {
   "display_name": "SCARP",
   "language": "python",
   "name": "python3"
  },
  "language_info": {
   "codemirror_mode": {
    "name": "ipython",
    "version": 3
   },
   "file_extension": ".py",
   "mimetype": "text/x-python",
   "name": "python",
   "nbconvert_exporter": "python",
   "pygments_lexer": "ipython3",
   "version": "3.8.8"
  }
 },
 "nbformat": 4,
 "nbformat_minor": 2
}
