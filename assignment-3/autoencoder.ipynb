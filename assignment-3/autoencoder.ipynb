{
 "cells": [
  {
   "cell_type": "code",
   "execution_count": 161,
   "metadata": {},
   "outputs": [
    {
     "data": {
      "text/plain": [
       "('1.21.2', 'cuda')"
      ]
     },
     "execution_count": 161,
     "metadata": {},
     "output_type": "execute_result"
    }
   ],
   "source": [
    "import numpy as np\n",
    "import pandas as pd\n",
    "import matplotlib.pyplot as plt\n",
    "import seaborn as sea\n",
    "from tqdm.notebook import tqdm\n",
    "import os\n",
    "import torch\n",
    "import torch.nn as nn\n",
    "from torch.utils.data import Dataset, DataLoader\n",
    "import torchvision\n",
    "from torchvision import transforms\n",
    "\n",
    "from sklearn.datasets import fetch_openml\n",
    "from scipy.io import loadmat\n",
    "\n",
    "device = 'cuda' if torch.cuda.is_available() else 'cpu'\n",
    "\n",
    "plt.style.use('seaborn')\n",
    "np.__version__, device"
   ]
  },
  {
   "cell_type": "code",
   "execution_count": 219,
   "metadata": {},
   "outputs": [
    {
     "data": {
      "text/plain": [
       "((60000, 28, 28), (10000, 28, 28), (60000,), (10000,))"
      ]
     },
     "execution_count": 219,
     "metadata": {},
     "output_type": "execute_result"
    }
   ],
   "source": [
    "X_train, X_test = np.load('./Data/MNIST/train_images.npy').reshape(-1, 28, 28),  np.load('./Data/MNIST/test_images.npy').reshape(-1, 28, 28)\n",
    "y_train, y_test = np.load('./Data/MNIST/train_labels.npy').ravel().astype(np.int32), np.load('./Data/MNIST/test_labels.npy').ravel().astype(np.int32)\n",
    "\n",
    "X_train.shape, X_test.shape, y_train.shape, y_test.shape"
   ]
  },
  {
   "cell_type": "code",
   "execution_count": 228,
   "metadata": {},
   "outputs": [],
   "source": [
    "class DigitDataset:\n",
    "    def __init__(self, X, y, transform=None, for_autoencoder = True):\n",
    "        self.transform = transform\n",
    "        self.X = X\n",
    "        self.y = y\n",
    "        self.for_autoencoder = for_autoencoder\n",
    "        \n",
    "    def __len__(self):\n",
    "        return len(self.X)\n",
    "\n",
    "    def __getitem__(self, idx):\n",
    "        x = self.transform(self.X[idx])\n",
    "        if self.for_autoencoder:\n",
    "            y = self.transform(self.X[idx]) + torch.rand_like(x)/3\n",
    "        else:\n",
    "            y = torch.tensor(self.y[idx]).to(torch.int64)\n",
    "            \n",
    "        return x.to(torch.float32), y\n",
    "\n",
    "\n",
    "train_transform = transforms.Compose([\n",
    "    transforms.ToTensor(),\n",
    "    transforms.Normalize(0, 1)\n",
    "])\n",
    "\n",
    "val_transform = transforms.Compose([\n",
    "    transforms.ToTensor(),\n",
    "    transforms.Normalize(0, 1)\n",
    "\n",
    "])\n",
    "\n",
    "batch_size = 512\n",
    "\n",
    "train_dataset = DigitDataset(X_train, y_train, train_transform)\n",
    "# val_dataset = DigitDataset(X_val, y_val, val_transform)\n",
    "test_dataset = DigitDataset(X_test, y_test, val_transform)\n",
    "\n",
    "train_loader = DataLoader(train_dataset, batch_size = batch_size, shuffle = False)\n",
    "# val_loader = DataLoader(val_dataset, batch_size = batch_size, shuffle = False)\n",
    "test_loader = DataLoader(test_dataset, batch_size = batch_size, shuffle = False)\n",
    "\n"
   ]
  },
  {
   "cell_type": "code",
   "execution_count": 229,
   "metadata": {},
   "outputs": [
    {
     "name": "stdout",
     "output_type": "stream",
     "text": [
      "torch.Size([512, 1, 28, 28]) torch.Size([512, 1, 28, 28])\n",
      "torch.float32 torch.float32\n"
     ]
    }
   ],
   "source": [
    "a, b = next(iter(train_loader))\n",
    "print(a.shape, b.shape)\n",
    "print(a.dtype, b.dtype)\n"
   ]
  },
  {
   "cell_type": "code",
   "execution_count": 230,
   "metadata": {},
   "outputs": [],
   "source": [
    "class AutoEncoder(nn.Module):\n",
    "    def __init__(self):\n",
    "        super().__init__()\n",
    "        \n",
    "        self.encoder = nn.ModuleList(\n",
    "            [\n",
    "                self.create_encoder_block(1, 32), # 32, 14, 14\n",
    "                self.create_encoder_block(32, 64), # 64, 7, 7\n",
    "                self.create_encoder_block(64, 128) # 128, 3, 3\n",
    "            ]\n",
    "        )\n",
    "        \n",
    "        self.decoder = nn.ModuleList(\n",
    "            [\n",
    "                self.create_decoder_block(128, 128, kernel_size=4), # 128, 4, 4\n",
    "                self.create_decoder_block(128, 64, kernel_size=4, stride=1, padding=0), # 64, 7, 7 \n",
    "                self.create_decoder_block(64, 32, kernel_size=4, padding=1), # 32, 14, 14                \n",
    "                self.create_decoder_block(32, 1, kernel_size=4, stride=2, padding=1, last=True),  # 3, 28, 28\n",
    "            ]\n",
    "        )\n",
    "        \n",
    "        self.fc = nn.Linear(128 * 3 * 3, 128 * 1 * 1)\n",
    "        \n",
    "    def create_encoder_block(self, in_c, out_c):\n",
    "        return nn.Sequential(\n",
    "            nn.Conv2d(in_c, in_c, kernel_size=3, stride=1, padding=1),\n",
    "            nn.ReLU(),\n",
    "            \n",
    "            nn.Conv2d(in_c, out_c, kernel_size=3, stride=1, padding=1, bias=False),\n",
    "            nn.BatchNorm2d(out_c),\n",
    "            nn.ReLU(),\n",
    "            \n",
    "            nn.Conv2d(out_c, out_c, kernel_size=3, stride=1, padding = 1, bias=False),\n",
    "            nn.BatchNorm2d(out_c),\n",
    "            nn.ReLU(),\n",
    "            \n",
    "            nn.MaxPool2d(2),\n",
    "            nn.Dropout(0.1)\n",
    "        )\n",
    "        \n",
    "    def create_decoder_block(self, in_c, out_c, kernel_size=3, padding=0, stride=2, last=False):\n",
    "        return nn.Sequential(\n",
    "            nn.Conv2d(in_c, in_c, kernel_size=3, stride=1, padding=1),\n",
    "            nn.ReLU(), \n",
    "            nn.Conv2d(in_c, in_c, kernel_size=3, stride=1, padding=1, bias=False),\n",
    "            nn.BatchNorm2d(in_c),\n",
    "            nn.ReLU(), \n",
    "            \n",
    "            nn.ConvTranspose2d(in_c, out_c, kernel_size=kernel_size, stride=stride, padding=padding, bias=False),\n",
    "            nn.BatchNorm2d(out_c), \n",
    "            nn.LeakyReLU(),\n",
    "            \n",
    "            nn.Conv2d(out_c, out_c, kernel_size=5, stride=1, padding=2, bias=False),\n",
    "            nn.BatchNorm2d(out_c),\n",
    "            nn.LeakyReLU(),\n",
    "            nn.Conv2d(out_c, out_c, kernel_size=3, stride=1, padding=1),\n",
    "            nn.LeakyReLU() if last else nn.Sigmoid(),\n",
    "            \n",
    "            nn.Dropout(0.2) if last else nn.Identity()\n",
    "            \n",
    "        )\n",
    "        \n",
    "    def forward(self, x):\n",
    "        for layer in self.encoder:\n",
    "            x = layer(x)         # 128, 4, 4\n",
    "\n",
    "        x = x.view(-1, 128 * 3 * 3)\n",
    "        x = nn.LeakyReLU()(self.fc(x)) # 128 * 1 * 1\n",
    "        x = x.view(-1, 128, 1, 1)\n",
    "        \n",
    "        for layer in self.decoder:\n",
    "            x = layer(x)\n",
    "        \n",
    "        return x\n",
    "        "
   ]
  },
  {
   "cell_type": "code",
   "execution_count": 231,
   "metadata": {},
   "outputs": [],
   "source": [
    "from sklearn.metrics import accuracy_score\n",
    "\n",
    "class Trainer:\n",
    "    def __init__(self,\n",
    "                 model,\n",
    "                 loss_fxn,\n",
    "                 train_loader,\n",
    "                 val_loader,\n",
    "                 device):\n",
    "        \n",
    "        self.device = device\n",
    "        self.model = model.to(self.device)\n",
    "        self.train_loader = train_loader\n",
    "        self.val_loader = val_loader\n",
    "        self.loss_fxn = loss_fxn\n",
    "        self.optimizer = torch.optim.Adam(self.model.parameters(), lr = 5e-4)\n",
    "\n",
    "    def training_step(self, x, y):\n",
    "        self.model.train()\n",
    "        y_pred = self.model(x)\n",
    "        loss = self.loss_fxn(y_pred, y)\n",
    "\n",
    "        self.optimizer.zero_grad()\n",
    "        loss.backward()\n",
    "        self.optimizer.step()\n",
    "        return loss, 0\n",
    "\n",
    "    def val_step(self, x, y):\n",
    "        with torch.no_grad():\n",
    "            y_pred = self.model(x)\n",
    "        loss = self.loss_fxn(y_pred, y)\n",
    "        return loss, 0\n",
    "\n",
    "    def go_over_batch(self, loader, step_fxn, type):\n",
    "        loss, acc = 0, 0\n",
    "        for x, y in tqdm(loader):\n",
    "            x, y = x.to(self.device), y.to(self.device)\n",
    "            l, a = step_fxn(x, y)\n",
    "            loss, acc = loss + l, acc + a\n",
    "            \n",
    "        return loss/len(loader), acc/len(loader)\n",
    "\n",
    "    def train(self, epochs = 13):\n",
    "\n",
    "        for epoch in tqdm(range(epochs)):\n",
    "            train_loss, train_acc = self.go_over_batch(self.train_loader, self.training_step, type='train')\n",
    "            val_loss, val_acc = self.go_over_batch(self.val_loader, self.val_step, type='val')\n",
    "\n",
    "            print(f\"[Epoch: {epoch}] Train:[loss:{train_loss:.3f} acc:{train_acc:.3f}] Val:[loss:{val_loss:.3f} acc:{val_acc:.3f}]\")\n"
   ]
  },
  {
   "cell_type": "code",
   "execution_count": 232,
   "metadata": {},
   "outputs": [],
   "source": [
    "trainer = Trainer(\n",
    "    model = AutoEncoder(),\n",
    "    train_loader=train_loader,\n",
    "    val_loader=test_loader,\n",
    "    loss_fxn=nn.MSELoss(),\n",
    "    device=device\n",
    ")"
   ]
  },
  {
   "cell_type": "code",
   "execution_count": 233,
   "metadata": {},
   "outputs": [
    {
     "data": {
      "application/vnd.jupyter.widget-view+json": {
       "model_id": "48bd096147c94fc29941c9c49e4f80f4",
       "version_major": 2,
       "version_minor": 0
      },
      "text/plain": [
       "  0%|          | 0/13 [00:00<?, ?it/s]"
      ]
     },
     "metadata": {},
     "output_type": "display_data"
    },
    {
     "data": {
      "application/vnd.jupyter.widget-view+json": {
       "model_id": "cfaab330bcb14fe5ab3437f7effc469a",
       "version_major": 2,
       "version_minor": 0
      },
      "text/plain": [
       "  0%|          | 0/118 [00:00<?, ?it/s]"
      ]
     },
     "metadata": {},
     "output_type": "display_data"
    },
    {
     "data": {
      "application/vnd.jupyter.widget-view+json": {
       "model_id": "3eebc3e22fad4d54b2f457790c3e3f4b",
       "version_major": 2,
       "version_minor": 0
      },
      "text/plain": [
       "  0%|          | 0/20 [00:00<?, ?it/s]"
      ]
     },
     "metadata": {},
     "output_type": "display_data"
    },
    {
     "name": "stdout",
     "output_type": "stream",
     "text": [
      "[Epoch: 0] Train:[loss:0.120 acc:0.000] Val:[loss:0.115 acc:0.000]\n"
     ]
    },
    {
     "data": {
      "application/vnd.jupyter.widget-view+json": {
       "model_id": "9e5396408e70425ab746440eb42206dc",
       "version_major": 2,
       "version_minor": 0
      },
      "text/plain": [
       "  0%|          | 0/118 [00:00<?, ?it/s]"
      ]
     },
     "metadata": {},
     "output_type": "display_data"
    },
    {
     "data": {
      "application/vnd.jupyter.widget-view+json": {
       "model_id": "c139c52d3c194fc3aea1b8e3ba57dc74",
       "version_major": 2,
       "version_minor": 0
      },
      "text/plain": [
       "  0%|          | 0/20 [00:00<?, ?it/s]"
      ]
     },
     "metadata": {},
     "output_type": "display_data"
    },
    {
     "name": "stdout",
     "output_type": "stream",
     "text": [
      "[Epoch: 1] Train:[loss:0.107 acc:0.000] Val:[loss:0.101 acc:0.000]\n"
     ]
    },
    {
     "data": {
      "application/vnd.jupyter.widget-view+json": {
       "model_id": "5fce008ecdec42dd8e23891b443e8753",
       "version_major": 2,
       "version_minor": 0
      },
      "text/plain": [
       "  0%|          | 0/118 [00:00<?, ?it/s]"
      ]
     },
     "metadata": {},
     "output_type": "display_data"
    },
    {
     "data": {
      "application/vnd.jupyter.widget-view+json": {
       "model_id": "2ced9e4e2afe4560a1eb8a8d79b2c77d",
       "version_major": 2,
       "version_minor": 0
      },
      "text/plain": [
       "  0%|          | 0/20 [00:00<?, ?it/s]"
      ]
     },
     "metadata": {},
     "output_type": "display_data"
    },
    {
     "name": "stdout",
     "output_type": "stream",
     "text": [
      "[Epoch: 2] Train:[loss:0.088 acc:0.000] Val:[loss:0.085 acc:0.000]\n"
     ]
    },
    {
     "data": {
      "application/vnd.jupyter.widget-view+json": {
       "model_id": "86b4ada9a33d43b6b063616694674a0d",
       "version_major": 2,
       "version_minor": 0
      },
      "text/plain": [
       "  0%|          | 0/118 [00:00<?, ?it/s]"
      ]
     },
     "metadata": {},
     "output_type": "display_data"
    },
    {
     "data": {
      "application/vnd.jupyter.widget-view+json": {
       "model_id": "2d472105be7b4346904a6dd137915703",
       "version_major": 2,
       "version_minor": 0
      },
      "text/plain": [
       "  0%|          | 0/20 [00:00<?, ?it/s]"
      ]
     },
     "metadata": {},
     "output_type": "display_data"
    },
    {
     "name": "stdout",
     "output_type": "stream",
     "text": [
      "[Epoch: 3] Train:[loss:0.077 acc:0.000] Val:[loss:0.083 acc:0.000]\n"
     ]
    },
    {
     "data": {
      "application/vnd.jupyter.widget-view+json": {
       "model_id": "5f68aeb1439d4b69aaaed9b91a989cb8",
       "version_major": 2,
       "version_minor": 0
      },
      "text/plain": [
       "  0%|          | 0/118 [00:00<?, ?it/s]"
      ]
     },
     "metadata": {},
     "output_type": "display_data"
    },
    {
     "data": {
      "application/vnd.jupyter.widget-view+json": {
       "model_id": "1bf86de2d8e54424a0b5b30a724a9105",
       "version_major": 2,
       "version_minor": 0
      },
      "text/plain": [
       "  0%|          | 0/20 [00:00<?, ?it/s]"
      ]
     },
     "metadata": {},
     "output_type": "display_data"
    },
    {
     "name": "stdout",
     "output_type": "stream",
     "text": [
      "[Epoch: 4] Train:[loss:0.074 acc:0.000] Val:[loss:0.079 acc:0.000]\n"
     ]
    },
    {
     "data": {
      "application/vnd.jupyter.widget-view+json": {
       "model_id": "72d488f3988644cc8d1da6dd1eb69278",
       "version_major": 2,
       "version_minor": 0
      },
      "text/plain": [
       "  0%|          | 0/118 [00:00<?, ?it/s]"
      ]
     },
     "metadata": {},
     "output_type": "display_data"
    },
    {
     "data": {
      "application/vnd.jupyter.widget-view+json": {
       "model_id": "a08a992782e34c81a40a347f1e165fc3",
       "version_major": 2,
       "version_minor": 0
      },
      "text/plain": [
       "  0%|          | 0/20 [00:00<?, ?it/s]"
      ]
     },
     "metadata": {},
     "output_type": "display_data"
    },
    {
     "name": "stdout",
     "output_type": "stream",
     "text": [
      "[Epoch: 5] Train:[loss:0.071 acc:0.000] Val:[loss:0.076 acc:0.000]\n"
     ]
    },
    {
     "data": {
      "application/vnd.jupyter.widget-view+json": {
       "model_id": "524b49d4d10c445c9e59d9609daf81b1",
       "version_major": 2,
       "version_minor": 0
      },
      "text/plain": [
       "  0%|          | 0/118 [00:00<?, ?it/s]"
      ]
     },
     "metadata": {},
     "output_type": "display_data"
    },
    {
     "data": {
      "application/vnd.jupyter.widget-view+json": {
       "model_id": "3ade3d6673834429ae1fc61de1e9c484",
       "version_major": 2,
       "version_minor": 0
      },
      "text/plain": [
       "  0%|          | 0/20 [00:00<?, ?it/s]"
      ]
     },
     "metadata": {},
     "output_type": "display_data"
    },
    {
     "name": "stdout",
     "output_type": "stream",
     "text": [
      "[Epoch: 6] Train:[loss:0.069 acc:0.000] Val:[loss:0.074 acc:0.000]\n"
     ]
    },
    {
     "data": {
      "application/vnd.jupyter.widget-view+json": {
       "model_id": "b8625bc46bab47748f9ef7f83a40bc75",
       "version_major": 2,
       "version_minor": 0
      },
      "text/plain": [
       "  0%|          | 0/118 [00:00<?, ?it/s]"
      ]
     },
     "metadata": {},
     "output_type": "display_data"
    },
    {
     "data": {
      "application/vnd.jupyter.widget-view+json": {
       "model_id": "f959a34d15804c759f482086ecb20de2",
       "version_major": 2,
       "version_minor": 0
      },
      "text/plain": [
       "  0%|          | 0/20 [00:00<?, ?it/s]"
      ]
     },
     "metadata": {},
     "output_type": "display_data"
    },
    {
     "name": "stdout",
     "output_type": "stream",
     "text": [
      "[Epoch: 7] Train:[loss:0.067 acc:0.000] Val:[loss:0.072 acc:0.000]\n"
     ]
    },
    {
     "data": {
      "application/vnd.jupyter.widget-view+json": {
       "model_id": "22304e62ddb04c14af74ef9551726eb1",
       "version_major": 2,
       "version_minor": 0
      },
      "text/plain": [
       "  0%|          | 0/118 [00:00<?, ?it/s]"
      ]
     },
     "metadata": {},
     "output_type": "display_data"
    },
    {
     "data": {
      "application/vnd.jupyter.widget-view+json": {
       "model_id": "774ca36a4a3b450b9a12f035fd946aa8",
       "version_major": 2,
       "version_minor": 0
      },
      "text/plain": [
       "  0%|          | 0/20 [00:00<?, ?it/s]"
      ]
     },
     "metadata": {},
     "output_type": "display_data"
    },
    {
     "name": "stdout",
     "output_type": "stream",
     "text": [
      "[Epoch: 8] Train:[loss:0.066 acc:0.000] Val:[loss:0.070 acc:0.000]\n"
     ]
    },
    {
     "data": {
      "application/vnd.jupyter.widget-view+json": {
       "model_id": "3804dd69189f45a68cf75798b4c8972d",
       "version_major": 2,
       "version_minor": 0
      },
      "text/plain": [
       "  0%|          | 0/118 [00:00<?, ?it/s]"
      ]
     },
     "metadata": {},
     "output_type": "display_data"
    },
    {
     "data": {
      "application/vnd.jupyter.widget-view+json": {
       "model_id": "6512a73a965345bd90d2a10ae21f2329",
       "version_major": 2,
       "version_minor": 0
      },
      "text/plain": [
       "  0%|          | 0/20 [00:00<?, ?it/s]"
      ]
     },
     "metadata": {},
     "output_type": "display_data"
    },
    {
     "name": "stdout",
     "output_type": "stream",
     "text": [
      "[Epoch: 9] Train:[loss:0.065 acc:0.000] Val:[loss:0.069 acc:0.000]\n"
     ]
    },
    {
     "data": {
      "application/vnd.jupyter.widget-view+json": {
       "model_id": "73929888d4a545449529010451a50252",
       "version_major": 2,
       "version_minor": 0
      },
      "text/plain": [
       "  0%|          | 0/118 [00:00<?, ?it/s]"
      ]
     },
     "metadata": {},
     "output_type": "display_data"
    },
    {
     "data": {
      "application/vnd.jupyter.widget-view+json": {
       "model_id": "e02cb7ff772a4dfbba8cffe368a5cdee",
       "version_major": 2,
       "version_minor": 0
      },
      "text/plain": [
       "  0%|          | 0/20 [00:00<?, ?it/s]"
      ]
     },
     "metadata": {},
     "output_type": "display_data"
    },
    {
     "name": "stdout",
     "output_type": "stream",
     "text": [
      "[Epoch: 10] Train:[loss:0.064 acc:0.000] Val:[loss:0.068 acc:0.000]\n"
     ]
    },
    {
     "data": {
      "application/vnd.jupyter.widget-view+json": {
       "model_id": "441547b0e752474e99fbd1b49547352a",
       "version_major": 2,
       "version_minor": 0
      },
      "text/plain": [
       "  0%|          | 0/118 [00:00<?, ?it/s]"
      ]
     },
     "metadata": {},
     "output_type": "display_data"
    },
    {
     "data": {
      "application/vnd.jupyter.widget-view+json": {
       "model_id": "b341ac87595740d1b90ca283171e6467",
       "version_major": 2,
       "version_minor": 0
      },
      "text/plain": [
       "  0%|          | 0/20 [00:00<?, ?it/s]"
      ]
     },
     "metadata": {},
     "output_type": "display_data"
    },
    {
     "name": "stdout",
     "output_type": "stream",
     "text": [
      "[Epoch: 11] Train:[loss:0.062 acc:0.000] Val:[loss:0.066 acc:0.000]\n"
     ]
    },
    {
     "data": {
      "application/vnd.jupyter.widget-view+json": {
       "model_id": "2a8dc74803754c6cac8c571cf2c34707",
       "version_major": 2,
       "version_minor": 0
      },
      "text/plain": [
       "  0%|          | 0/118 [00:00<?, ?it/s]"
      ]
     },
     "metadata": {},
     "output_type": "display_data"
    },
    {
     "data": {
      "application/vnd.jupyter.widget-view+json": {
       "model_id": "b970cf5778104dfaa88eca06e2372351",
       "version_major": 2,
       "version_minor": 0
      },
      "text/plain": [
       "  0%|          | 0/20 [00:00<?, ?it/s]"
      ]
     },
     "metadata": {},
     "output_type": "display_data"
    },
    {
     "name": "stdout",
     "output_type": "stream",
     "text": [
      "[Epoch: 12] Train:[loss:0.061 acc:0.000] Val:[loss:0.065 acc:0.000]\n"
     ]
    }
   ],
   "source": [
    "trainer.train()"
   ]
  },
  {
   "cell_type": "code",
   "execution_count": 234,
   "metadata": {},
   "outputs": [
    {
     "data": {
      "application/vnd.jupyter.widget-view+json": {
       "model_id": "3cc33d6323314be092186089bb543c9b",
       "version_major": 2,
       "version_minor": 0
      },
      "text/plain": [
       "  0%|          | 0/118 [00:00<?, ?it/s]"
      ]
     },
     "metadata": {},
     "output_type": "display_data"
    },
    {
     "data": {
      "application/vnd.jupyter.widget-view+json": {
       "model_id": "36a49ec52b66434297ea6edb5985c328",
       "version_major": 2,
       "version_minor": 0
      },
      "text/plain": [
       "  0%|          | 0/20 [00:00<?, ?it/s]"
      ]
     },
     "metadata": {},
     "output_type": "display_data"
    }
   ],
   "source": [
    "X_train_denoised = []\n",
    "X_test_denoised = []\n",
    "\n",
    "for x, y in tqdm(train_loader):\n",
    "    with torch.no_grad():\n",
    "        y_pred = trainer.model(x.to(device)).cpu()\n",
    "    X_train_denoised.extend(y_pred.numpy().tolist())\n",
    "    \n",
    "\n",
    "for x, y in tqdm(test_loader):\n",
    "    with torch.no_grad():\n",
    "        y_pred = trainer.model(x.to(device)).cpu()\n",
    "    X_test_denoised.extend(y_pred.numpy().tolist())\n",
    "    \n",
    "    \n",
    "    "
   ]
  },
  {
   "cell_type": "code",
   "execution_count": 235,
   "metadata": {},
   "outputs": [
    {
     "data": {
      "text/plain": [
       "(60000, 28, 28)"
      ]
     },
     "execution_count": 235,
     "metadata": {},
     "output_type": "execute_result"
    }
   ],
   "source": [
    "np.array(X_train_denoised).squeeze(1).shape"
   ]
  },
  {
   "cell_type": "code",
   "execution_count": 236,
   "metadata": {},
   "outputs": [
    {
     "data": {
      "image/png": "[encoded data removed]",
      "text/plain": [
       "<Figure size 360x720 with 2 Axes>"
      ]
     },
     "metadata": {},
     "output_type": "display_data"
    },
    {
     "name": "stdout",
     "output_type": "stream",
     "text": [
      "5\n"
     ]
    },
    {
     "data": {
      "image/png": "[encoded data removed]",
      "text/plain": [
       "<Figure size 360x720 with 2 Axes>"
      ]
     },
     "metadata": {},
     "output_type": "display_data"
    },
    {
     "name": "stdout",
     "output_type": "stream",
     "text": [
      "0\n"
     ]
    },
    {
     "data": {
      "image/png": "[encoded data removed]",
      "text/plain": [
       "<Figure size 360x720 with 2 Axes>"
      ]
     },
     "metadata": {},
     "output_type": "display_data"
    },
    {
     "name": "stdout",
     "output_type": "stream",
     "text": [
      "4\n"
     ]
    },
    {
     "data": {
      "image/png": "[encoded data removed]",
      "text/plain": [
       "<Figure size 360x720 with 2 Axes>"
      ]
     },
     "metadata": {},
     "output_type": "display_data"
    },
    {
     "name": "stdout",
     "output_type": "stream",
     "text": [
      "1\n"
     ]
    },
    {
     "data": {
      "image/png": "[encoded data removed]",
      "text/plain": [
       "<Figure size 360x720 with 2 Axes>"
      ]
     },
     "metadata": {},
     "output_type": "display_data"
    },
    {
     "name": "stdout",
     "output_type": "stream",
     "text": [
      "9\n"
     ]
    }
   ],
   "source": [
    "a, b = next(iter(train_loader))\n",
    "counter = 1\n",
    "\n",
    "\n",
    "for i in range(5):\n",
    "    plt.figure(figsize=(5, 10))\n",
    "    \n",
    "    plt.subplot(5, 2, counter)\n",
    "    plt.imshow(b[i][0])\n",
    "    \n",
    "    plt.subplot(5, 2, counter + 1)\n",
    "    plt.imshow(X_train_denoised[i][0])\n",
    "    \n",
    "    plt.axis('off')\n",
    "    plt.show()\n",
    "    \n",
    "    print(y_train[i])\n",
    "    \n",
    "    counter += 2\n"
   ]
  },
  {
   "cell_type": "code",
   "execution_count": 237,
   "metadata": {},
   "outputs": [],
   "source": [
    "class Model(nn.Module):\n",
    "    def __init__(self, params):\n",
    "        super().__init__()\n",
    "        self.params = params\n",
    "        \n",
    "        self.layer1 = self.get_layers(1, 32)\n",
    "        self.layer2 = self.get_layers(32, 64)\n",
    "        self.layer3 = self.get_layers(64, 128)\n",
    "\n",
    "        self.drop = nn.Dropout(0.2) if self.params['use_dropout'] else nn.Identity()\n",
    "        self.fc1 = nn.Linear(128 * 3 * 3, 128 * 1 * 1)\n",
    "        self.fc2 = nn.Linear(128, 10)\n",
    "\n",
    "    def get_layers(self, in_c, out_c):\n",
    "        return nn.Sequential(\n",
    "            nn.Conv2d(in_c, out_c, kernel_size=self.params['kernel_size'], stride = 1, padding=self.params['padding']),\n",
    "            nn.ReLU(),\n",
    "            nn.MaxPool2d(2)\n",
    "        )\n",
    "\n",
    "    def forward(self, x):\n",
    "        # 1, 28, 28\n",
    "        x = self.layer1(x) # 32, 14, 14\n",
    "        x = self.layer2(x) # 64, 7, 7\n",
    "        x = self.drop(x)\n",
    "        x = self.layer3(x) # 128, 3, 3\n",
    "\n",
    "        x = x.view(-1, 128 * 3 * 3) # 128 * 3 * 3\n",
    "\n",
    "        x = self.drop(x)\n",
    "\n",
    "        x = nn.ReLU()(self.fc1(x))\n",
    "        x = self.drop(x)\n",
    "        x = self.fc2(x)\n",
    "        return x\n",
    "\n"
   ]
  },
  {
   "cell_type": "code",
   "execution_count": 238,
   "metadata": {},
   "outputs": [],
   "source": [
    "\n",
    "from sklearn.metrics import accuracy_score\n",
    "\n",
    "class Trainer:\n",
    "    def __init__(self,\n",
    "                 model,\n",
    "                 loss_fxn,\n",
    "                 train_loader,\n",
    "                 val_loader,\n",
    "                 device,\n",
    "                 params,\n",
    "                 logger):\n",
    "\n",
    "        self.device = device\n",
    "        self.params = params\n",
    "        self.logger = logger\n",
    "        self.model = model.to(self.device)\n",
    "        self.train_loader = train_loader\n",
    "        self.val_loader = val_loader\n",
    "        self.loss_fxn = loss_fxn\n",
    "        self.optimizer = torch.optim.Adam(self.model.parameters(), lr = self.params['lr'])\n",
    "\n",
    "    def training_step(self, x, y):\n",
    "        y_pred = self.model(x)\n",
    "        loss = self.loss_fxn(y_pred, y)\n",
    "        acc = accuracy_score(y.detach().cpu(), torch.argmax(y_pred, axis=-1).detach().cpu())\n",
    "\n",
    "        self.optimizer.zero_grad()\n",
    "        loss.backward()\n",
    "        self.optimizer.step()\n",
    "        return loss, acc\n",
    "\n",
    "    def val_step(self, x, y):\n",
    "        with torch.no_grad():\n",
    "            y_pred = self.model(x)\n",
    "        loss = self.loss_fxn(y_pred, y)\n",
    "        acc = accuracy_score(y.detach().cpu(), torch.argmax(y_pred, axis=-1).detach().cpu())\n",
    "        return loss, acc\n",
    "\n",
    "    def go_over_batch(self, loader, step_fxn):\n",
    "        loss, acc = 0, 0\n",
    "        for x, y in tqdm(loader):\n",
    "            x, y = x.to(self.device), y.to(self.device)\n",
    "            l, a = step_fxn(x, y)\n",
    "            loss, acc = loss + l, acc + a\n",
    "            \n",
    "        return loss/len(loader), acc/len(loader)\n",
    "\n",
    "    def train(self):\n",
    "\n",
    "        for epoch in tqdm(range(self.params['epoch'])):\n",
    "            train_loss, train_acc = self.go_over_batch(self.train_loader, self.training_step)\n",
    "            val_loss, val_acc = self.go_over_batch(self.val_loader, self.val_step)\n",
    "\n",
    "            print(f\"[Epoch: {epoch}] Train:[loss:{train_loss:.3f} acc:{train_acc:.3f}] Val:[loss:{val_loss:.3f} acc:{val_acc:.3f}]\")\n",
    "            \n",
    "            if self.logger:\n",
    "                self.logger.log({'train_loss': train_loss, 'train_acc': train_acc, \n",
    "                                'val_loss':val_loss, 'val_acc':val_acc})\n",
    "        if self.logger:     \n",
    "            self.logger.finish()"
   ]
  },
  {
   "cell_type": "code",
   "execution_count": 239,
   "metadata": {},
   "outputs": [],
   "source": [
    "batch_size = 512\n",
    "\n",
    "train_dataset_denoised = DigitDataset(np.array(X_train_denoised).squeeze(1), y_train, train_transform, for_autoencoder=False)\n",
    "test_dataset_denoised = DigitDataset(np.array(X_test_denoised).squeeze(1), y_test, val_transform, for_autoencoder=False)\n",
    "\n",
    "train_loader_denoised = DataLoader(train_dataset_denoised, batch_size = batch_size, shuffle = False)\n",
    "test_loader_denoised = DataLoader(test_dataset_denoised, batch_size = batch_size, shuffle = False)\n"
   ]
  },
  {
   "cell_type": "code",
   "execution_count": 240,
   "metadata": {},
   "outputs": [
    {
     "data": {
      "text/plain": [
       "(torch.Size([512, 1, 28, 28]), torch.Size([512]))"
      ]
     },
     "execution_count": 240,
     "metadata": {},
     "output_type": "execute_result"
    }
   ],
   "source": [
    "a, b = next(iter(train_loader_denoised))\n",
    "\n",
    "a.shape, b.shape"
   ]
  },
  {
   "cell_type": "code",
   "execution_count": 241,
   "metadata": {},
   "outputs": [
    {
     "data": {
      "application/vnd.jupyter.widget-view+json": {
       "model_id": "f09b47958d01427188670f14c37c8124",
       "version_major": 2,
       "version_minor": 0
      },
      "text/plain": [
       "  0%|          | 0/10 [00:00<?, ?it/s]"
      ]
     },
     "metadata": {},
     "output_type": "display_data"
    },
    {
     "data": {
      "application/vnd.jupyter.widget-view+json": {
       "model_id": "54483b0617b14d04a563f127826b609c",
       "version_major": 2,
       "version_minor": 0
      },
      "text/plain": [
       "  0%|          | 0/118 [00:00<?, ?it/s]"
      ]
     },
     "metadata": {},
     "output_type": "display_data"
    },
    {
     "data": {
      "application/vnd.jupyter.widget-view+json": {
       "model_id": "69d54ebab2974dbbb18e4cb3721b92b2",
       "version_major": 2,
       "version_minor": 0
      },
      "text/plain": [
       "  0%|          | 0/20 [00:00<?, ?it/s]"
      ]
     },
     "metadata": {},
     "output_type": "display_data"
    },
    {
     "name": "stdout",
     "output_type": "stream",
     "text": [
      "[Epoch: 0] Train:[loss:1.824 acc:0.441] Val:[loss:0.921 acc:0.717]\n"
     ]
    },
    {
     "data": {
      "application/vnd.jupyter.widget-view+json": {
       "model_id": "92f679fcfe80483b8aa481e2afc9ecc7",
       "version_major": 2,
       "version_minor": 0
      },
      "text/plain": [
       "  0%|          | 0/118 [00:00<?, ?it/s]"
      ]
     },
     "metadata": {},
     "output_type": "display_data"
    },
    {
     "data": {
      "application/vnd.jupyter.widget-view+json": {
       "model_id": "805a1f67fb474318842ba5096a43608c",
       "version_major": 2,
       "version_minor": 0
      },
      "text/plain": [
       "  0%|          | 0/20 [00:00<?, ?it/s]"
      ]
     },
     "metadata": {},
     "output_type": "display_data"
    },
    {
     "name": "stdout",
     "output_type": "stream",
     "text": [
      "[Epoch: 1] Train:[loss:0.680 acc:0.788] Val:[loss:0.514 acc:0.843]\n"
     ]
    },
    {
     "data": {
      "application/vnd.jupyter.widget-view+json": {
       "model_id": "c6b5a887a65d473fb8c850d2898e84c5",
       "version_major": 2,
       "version_minor": 0
      },
      "text/plain": [
       "  0%|          | 0/118 [00:00<?, ?it/s]"
      ]
     },
     "metadata": {},
     "output_type": "display_data"
    },
    {
     "data": {
      "application/vnd.jupyter.widget-view+json": {
       "model_id": "da72b6dc368b482e8317bfbb0aa8ca7d",
       "version_major": 2,
       "version_minor": 0
      },
      "text/plain": [
       "  0%|          | 0/20 [00:00<?, ?it/s]"
      ]
     },
     "metadata": {},
     "output_type": "display_data"
    },
    {
     "name": "stdout",
     "output_type": "stream",
     "text": [
      "[Epoch: 2] Train:[loss:0.453 acc:0.861] Val:[loss:0.390 acc:0.879]\n"
     ]
    },
    {
     "data": {
      "application/vnd.jupyter.widget-view+json": {
       "model_id": "5c8c681b41e347da827ad8a44908699e",
       "version_major": 2,
       "version_minor": 0
      },
      "text/plain": [
       "  0%|          | 0/118 [00:00<?, ?it/s]"
      ]
     },
     "metadata": {},
     "output_type": "display_data"
    },
    {
     "data": {
      "application/vnd.jupyter.widget-view+json": {
       "model_id": "8ff26281266042a8a8528e9aae392cb2",
       "version_major": 2,
       "version_minor": 0
      },
      "text/plain": [
       "  0%|          | 0/20 [00:00<?, ?it/s]"
      ]
     },
     "metadata": {},
     "output_type": "display_data"
    },
    {
     "name": "stdout",
     "output_type": "stream",
     "text": [
      "[Epoch: 3] Train:[loss:0.356 acc:0.891] Val:[loss:0.329 acc:0.899]\n"
     ]
    },
    {
     "data": {
      "application/vnd.jupyter.widget-view+json": {
       "model_id": "9ac196ac76d74a4fb509b1d27a8c37d7",
       "version_major": 2,
       "version_minor": 0
      },
      "text/plain": [
       "  0%|          | 0/118 [00:00<?, ?it/s]"
      ]
     },
     "metadata": {},
     "output_type": "display_data"
    },
    {
     "data": {
      "application/vnd.jupyter.widget-view+json": {
       "model_id": "cc5d70d3ff2844b78a3da92a2a08d7ef",
       "version_major": 2,
       "version_minor": 0
      },
      "text/plain": [
       "  0%|          | 0/20 [00:00<?, ?it/s]"
      ]
     },
     "metadata": {},
     "output_type": "display_data"
    },
    {
     "name": "stdout",
     "output_type": "stream",
     "text": [
      "[Epoch: 4] Train:[loss:0.305 acc:0.907] Val:[loss:0.289 acc:0.911]\n"
     ]
    },
    {
     "data": {
      "application/vnd.jupyter.widget-view+json": {
       "model_id": "60af912f2e2b4815b6acc1bbb667120e",
       "version_major": 2,
       "version_minor": 0
      },
      "text/plain": [
       "  0%|          | 0/118 [00:00<?, ?it/s]"
      ]
     },
     "metadata": {},
     "output_type": "display_data"
    },
    {
     "data": {
      "application/vnd.jupyter.widget-view+json": {
       "model_id": "b71441c1e7df4a7fbaed38053b708563",
       "version_major": 2,
       "version_minor": 0
      },
      "text/plain": [
       "  0%|          | 0/20 [00:00<?, ?it/s]"
      ]
     },
     "metadata": {},
     "output_type": "display_data"
    },
    {
     "name": "stdout",
     "output_type": "stream",
     "text": [
      "[Epoch: 5] Train:[loss:0.270 acc:0.918] Val:[loss:0.264 acc:0.920]\n"
     ]
    },
    {
     "data": {
      "application/vnd.jupyter.widget-view+json": {
       "model_id": "05a54e6fa2e3443d9adadb2970089e0c",
       "version_major": 2,
       "version_minor": 0
      },
      "text/plain": [
       "  0%|          | 0/118 [00:00<?, ?it/s]"
      ]
     },
     "metadata": {},
     "output_type": "display_data"
    },
    {
     "data": {
      "application/vnd.jupyter.widget-view+json": {
       "model_id": "997ff65b03434591be09210729ef4313",
       "version_major": 2,
       "version_minor": 0
      },
      "text/plain": [
       "  0%|          | 0/20 [00:00<?, ?it/s]"
      ]
     },
     "metadata": {},
     "output_type": "display_data"
    },
    {
     "name": "stdout",
     "output_type": "stream",
     "text": [
      "[Epoch: 6] Train:[loss:0.246 acc:0.925] Val:[loss:0.248 acc:0.926]\n"
     ]
    },
    {
     "data": {
      "application/vnd.jupyter.widget-view+json": {
       "model_id": "e3a175c029784f93b7016919aadbf659",
       "version_major": 2,
       "version_minor": 0
      },
      "text/plain": [
       "  0%|          | 0/118 [00:00<?, ?it/s]"
      ]
     },
     "metadata": {},
     "output_type": "display_data"
    },
    {
     "data": {
      "application/vnd.jupyter.widget-view+json": {
       "model_id": "c121fe4bd43e480d98779d3322617c0e",
       "version_major": 2,
       "version_minor": 0
      },
      "text/plain": [
       "  0%|          | 0/20 [00:00<?, ?it/s]"
      ]
     },
     "metadata": {},
     "output_type": "display_data"
    },
    {
     "name": "stdout",
     "output_type": "stream",
     "text": [
      "[Epoch: 7] Train:[loss:0.229 acc:0.930] Val:[loss:0.232 acc:0.930]\n"
     ]
    },
    {
     "data": {
      "application/vnd.jupyter.widget-view+json": {
       "model_id": "9212cdb48c8f4b1bb7854d6c5a7677a1",
       "version_major": 2,
       "version_minor": 0
      },
      "text/plain": [
       "  0%|          | 0/118 [00:00<?, ?it/s]"
      ]
     },
     "metadata": {},
     "output_type": "display_data"
    },
    {
     "data": {
      "application/vnd.jupyter.widget-view+json": {
       "model_id": "bbe23ccfcc5a4fd89394c3dd4ec6338e",
       "version_major": 2,
       "version_minor": 0
      },
      "text/plain": [
       "  0%|          | 0/20 [00:00<?, ?it/s]"
      ]
     },
     "metadata": {},
     "output_type": "display_data"
    },
    {
     "name": "stdout",
     "output_type": "stream",
     "text": [
      "[Epoch: 8] Train:[loss:0.216 acc:0.934] Val:[loss:0.217 acc:0.935]\n"
     ]
    },
    {
     "data": {
      "application/vnd.jupyter.widget-view+json": {
       "model_id": "4d02e6043ade472c9f2ca504ce40c0bf",
       "version_major": 2,
       "version_minor": 0
      },
      "text/plain": [
       "  0%|          | 0/118 [00:00<?, ?it/s]"
      ]
     },
     "metadata": {},
     "output_type": "display_data"
    },
    {
     "data": {
      "application/vnd.jupyter.widget-view+json": {
       "model_id": "633602a780c847148d29ec97e901c517",
       "version_major": 2,
       "version_minor": 0
      },
      "text/plain": [
       "  0%|          | 0/20 [00:00<?, ?it/s]"
      ]
     },
     "metadata": {},
     "output_type": "display_data"
    },
    {
     "name": "stdout",
     "output_type": "stream",
     "text": [
      "[Epoch: 9] Train:[loss:0.206 acc:0.937] Val:[loss:0.213 acc:0.931]\n"
     ]
    }
   ],
   "source": [
    "params = {\n",
    "    'lr' : 1e-4,\n",
    "    'batch_size': 128,\n",
    "    'epoch': 10, \n",
    "    'use_dropout': True,\n",
    "    'kernel_size': 3,\n",
    "    'padding': 1\n",
    "}\n",
    "\n",
    "trainer = Trainer(\n",
    "    model = Model(params),\n",
    "    loss_fxn=nn.CrossEntropyLoss(),\n",
    "    train_loader=train_loader_denoised,\n",
    "    val_loader=test_loader_denoised,\n",
    "    device = device,\n",
    "    params = params,\n",
    "    logger = None\n",
    ")\n",
    "\n",
    "trainer.train()"
   ]
  },
  {
   "cell_type": "code",
   "execution_count": 260,
   "metadata": {},
   "outputs": [],
   "source": [
    "from sklearn.metrics import classification_report\n",
    "\n",
    "def test_model(model, loader):\n",
    "    y_pred, y_true = [], []\n",
    "    for x, y in tqdm(loader):\n",
    "        x = x.to(device)\n",
    "        pred = model(x)\n",
    "        y_pred.extend(np.argmax(pred.detach().cpu().numpy(), axis=-1))\n",
    "        y_true.extend(y.numpy())\n",
    "        \n",
    "    print(classification_report(y_true, y_pred))"
   ]
  },
  {
   "cell_type": "code",
   "execution_count": 261,
   "metadata": {},
   "outputs": [
    {
     "data": {
      "application/vnd.jupyter.widget-view+json": {
       "model_id": "c53331fd684146688f8932bc4c45832d",
       "version_major": 2,
       "version_minor": 0
      },
      "text/plain": [
       "  0%|          | 0/20 [00:00<?, ?it/s]"
      ]
     },
     "metadata": {},
     "output_type": "display_data"
    },
    {
     "name": "stdout",
     "output_type": "stream",
     "text": [
      "              precision    recall  f1-score   support\n",
      "\n",
      "           0       0.94      0.98      0.96       980\n",
      "           1       0.98      0.98      0.98      1135\n",
      "           2       0.95      0.92      0.93      1032\n",
      "           3       0.92      0.92      0.92      1010\n",
      "           4       0.93      0.94      0.93       982\n",
      "           5       0.91      0.94      0.92       892\n",
      "           6       0.96      0.96      0.96       958\n",
      "           7       0.92      0.94      0.93      1028\n",
      "           8       0.92      0.86      0.89       974\n",
      "           9       0.90      0.90      0.90      1009\n",
      "\n",
      "    accuracy                           0.93     10000\n",
      "   macro avg       0.93      0.93      0.93     10000\n",
      "weighted avg       0.93      0.93      0.93     10000\n",
      "\n"
     ]
    }
   ],
   "source": [
    "test_model(trainer.model, test_loader_denoised)"
   ]
  },
  {
   "cell_type": "markdown",
   "metadata": {},
   "source": [
    "## Analysis\n",
    "\n",
    "Intrestingly, the accuracy after training the CNN classification model on noisy data and denoised data using an Autoencoder are both comparable. \n",
    "This is probably because as of now, noise levels injected in the images are kept at a lower value, otherwise the Autoencoder doesn't perform well \n",
    "and is not able to denoise the images. Because of this, the CNN model is already able to classify well on the noisy data itself. The Autoencoder\n",
    "limited by its parameters, denoises somewhat, but then again the CNN model anyhow classifies the data well."
   ]
  },
  {
   "cell_type": "code",
   "execution_count": null,
   "metadata": {},
   "outputs": [],
   "source": []
  }
 ],
 "metadata": {
  "kernelspec": {
   "display_name": "SCARP",
   "language": "python",
   "name": "python3"
  },
  "language_info": {
   "codemirror_mode": {
    "name": "ipython",
    "version": 3
   },
   "file_extension": ".py",
   "mimetype": "text/x-python",
   "name": "python",
   "nbconvert_exporter": "python",
   "pygments_lexer": "ipython3",
   "version": "3.8.8"
  }
 },
 "nbformat": 4,
 "nbformat_minor": 2
}
