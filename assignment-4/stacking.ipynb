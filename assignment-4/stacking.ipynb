{
 "cells": [
  {
   "cell_type": "code",
   "execution_count": 1,
   "metadata": {},
   "outputs": [
    {
     "name": "stderr",
     "output_type": "stream",
     "text": [
      "/tmp/ipykernel_198924/1157972180.py:14: MatplotlibDeprecationWarning: The seaborn styles shipped by Matplotlib are deprecated since 3.6, as they no longer correspond to the styles shipped by seaborn. However, they will remain available as 'seaborn-v0_8-<style>'. Alternatively, directly use the seaborn API instead.\n",
      "  plt.style.use('seaborn')\n"
     ]
    }
   ],
   "source": [
    "import numpy as np\n",
    "import pandas as pd\n",
    "import matplotlib.pyplot as plt\n",
    "import seaborn as sea\n",
    "import os\n",
    "from tqdm.notebook import tqdm\n",
    "from sklearn.metrics import accuracy_score, r2_score\n",
    "import sklearn\n",
    "import copy\n",
    "import time\n",
    "\n",
    "from utils import *\n",
    "\n",
    "plt.style.use('seaborn')"
   ]
  },
  {
   "cell_type": "code",
   "execution_count": 6,
   "metadata": {},
   "outputs": [
    {
     "data": {
      "text/plain": [
       "((914, 11), (229, 11), (914, 6), (229, 6))"
      ]
     },
     "execution_count": 6,
     "metadata": {},
     "output_type": "execute_result"
    }
   ],
   "source": [
    "from sklearn.preprocessing import StandardScaler\n",
    "from sklearn.model_selection import train_test_split\n",
    "\n",
    "df = pd.read_csv('./data/WineQT.csv').drop(columns=['Id'], axis=0)\n",
    "\n",
    "scaler = StandardScaler()\n",
    "\n",
    "df['quality'] = df['quality'].map(lambda x : x - 3)\n",
    "df.iloc[:, :-1] = scaler.fit_transform(df.iloc[:, :-1])\n",
    "\n",
    "df_train, df_val = train_test_split(df, test_size=0.2)\n",
    "\n",
    "X_train_c, y_train_c = df_train.values[:, :-1], pd.get_dummies(df_train.values[:, -1], dtype=np.float32).values\n",
    "X_val_c, y_val_c = df_val.values[:, :-1], pd.get_dummies(df_val.values[:, -1], dtype=np.float32).values\n",
    "\n",
    "X_train_c.shape, X_val_c.shape, y_train_c.shape, y_val_c.shape"
   ]
  },
  {
   "cell_type": "code",
   "execution_count": 7,
   "metadata": {},
   "outputs": [
    {
     "data": {
      "text/plain": [
       "((455, 13), (455, 1), (51, 13), (51, 1))"
      ]
     },
     "execution_count": 7,
     "metadata": {},
     "output_type": "execute_result"
    }
   ],
   "source": [
    "from sklearn.preprocessing import StandardScaler\n",
    "from sklearn.model_selection import train_test_split\n",
    "\n",
    "df = pd.read_csv('./data/HousingData.csv')\n",
    "nan_cols = ['CRIM', 'ZN', 'INDUS', 'CHAS', 'AGE', 'LSTAT']\n",
    "for col in nan_cols:\n",
    "    df[col] = df[col].fillna(df[col].mean(), inplace=False)\n",
    "    \n",
    "\n",
    "scaler = StandardScaler()\n",
    "scaled_data = scaler.fit_transform(df)\n",
    "df_scaled = pd.DataFrame(scaled_data, columns=df.columns)\n",
    "\n",
    "\n",
    "X_train_r, X_val_r, y_train_r, y_val_r = train_test_split(df_scaled.iloc[:, :-1].values, df_scaled.iloc[:, -1].values, test_size=0.1)\n",
    "y_train_r, y_val_r = y_train_r.reshape(-1, 1), y_val_r.reshape(-1, 1)\n",
    "\n",
    "X_train_r.shape, y_train_r.shape, X_val_r.shape, y_val_r.shape\n"
   ]
  },
  {
   "cell_type": "code",
   "execution_count": 8,
   "metadata": {},
   "outputs": [],
   "source": [
    "from sklearn.tree import DecisionTreeClassifier, DecisionTreeRegressor\n",
    "\n",
    "class DecisionTree:\n",
    "    def __init__(self,\n",
    "                 criterion,\n",
    "                 max_depth,\n",
    "                 task):\n",
    "        self.criterion = criterion\n",
    "        self.max_depth = max_depth\n",
    "        self.task = task\n",
    "        self.model = DecisionTreeClassifier(criterion=self.criterion, max_depth=self.max_depth)  if task == 'classification' \\\n",
    "                    else DecisionTreeRegressor(criterion=self.criterion, max_depth=self.max_depth)\n",
    "        \n",
    "    def __call__(self, x):\n",
    "        pred = self.model.predict(x) \n",
    "        return np.expand_dims(pred, -1) if self.task == 'regression' else pred\n",
    "        \n",
    "    def train(self, X, y):\n",
    "        self.model.fit(X, y)\n",
    "        print(\"Accuracy of decision tree:\", self.model.score(X, y))\n",
    "        "
   ]
  },
  {
   "cell_type": "code",
   "execution_count": 9,
   "metadata": {},
   "outputs": [],
   "source": [
    "from sklearn.model_selection import KFold\n",
    "\n",
    "class Stacking:\n",
    "    def __init__(self,\n",
    "                 level_0    :list,\n",
    "                 level_1    :Model,\n",
    "                 method     :str, \n",
    "                 X          :np.ndarray, \n",
    "                 y          :np.ndarray,\n",
    "                 frac       :float):\n",
    "\n",
    "        self.level_0 = level_0\n",
    "        self.level_1 = level_1\n",
    "        self.method = method\n",
    "        self.X = X\n",
    "        self.y = y\n",
    "        self.frac = frac\n",
    "        self.num_samples = len(self.X)\n",
    "        \n",
    "    def blending(self):\n",
    "        X_train, X_val, y_train, y_val = train_test_split(self.X, self.y, test_size=0.2)\n",
    "        print(\"Level 0:\")\n",
    "        for model in self.level_0:\n",
    "            model.train(X_train, y_train)\n",
    "        \n",
    "        X_new = np.hstack([model(X_val) for model in self.level_0])\n",
    "        print(\"Level 1:\")            \n",
    "        self.level_1.train(X_new, y_val)\n",
    "        print(\"=\" * 30)\n",
    "        \n",
    "    def holdout(self, k=5):\n",
    "        new_X, new_y = [], []\n",
    "        \n",
    "        kf = KFold(n_splits=k, shuffle=False)\n",
    "        \n",
    "        for (train_idx, val_idx) in kf.split(self.X, self.y):\n",
    "            temp_X = []\n",
    "            for model in self.level_0:\n",
    "                model.train(self.X[train_idx], self.y[train_idx])\n",
    "                temp_X.append(model(self.X[val_idx]))\n",
    "            \n",
    "            new_X.extend(np.hstack(temp_X))\n",
    "            new_y.extend(self.y[val_idx])\n",
    "        \n",
    "        print(\"Level 1:\")\n",
    "        # print(np.array(new_X).shape, np.array(new_y).shape)\n",
    "        self.level_1.train(np.array(new_X), np.array(new_y))\n",
    "\n",
    "        print(\"Level 0:\")\n",
    "        for model in self.level_0:\n",
    "            model.train(self.X, self.y)\n",
    "\n",
    "    def train(self):\n",
    "        self.time_taken = time.time()\n",
    "        \n",
    "        if self.method == 'blending':\n",
    "            self.blending()\n",
    "        else:\n",
    "            self.holdout()\n",
    "        \n",
    "        self.time_taken = time.time() - self.time_taken\n",
    "        \n",
    "    def predict(self, x):\n",
    "        preds_0 = []\n",
    "        for model in self.level_0:\n",
    "            preds_0.append(model(x))\n",
    "    \n",
    "        preds_0 = np.hstack(preds_0)\n",
    "        pred_1 = self.level_1(preds_0)\n",
    "        return pred_1\n",
    "    "
   ]
  },
  {
   "cell_type": "code",
   "execution_count": 10,
   "metadata": {},
   "outputs": [
    {
     "data": {
      "text/plain": [
       "<__main__.Stacking at 0x7f403a4b13d0>"
      ]
     },
     "execution_count": 10,
     "metadata": {},
     "output_type": "execute_result"
    }
   ],
   "source": [
    "logistic = Model(lr=5e-3, logger=None, loss_fxn=CrossEntropyLoss(), type='classification', epochs=1000)\n",
    "logistic.add(Layer(11, 6, Softmax()))\n",
    "\n",
    "mlp = Model(lr=5e-3, logger=None, loss_fxn=CrossEntropyLoss(), type='classification', epochs=1000)\n",
    "mlp.add(Layer(11, 16, Relu()))\n",
    "mlp.add(Layer(16, 16, Relu()))\n",
    "mlp.add(Layer(16, 6, Softmax()))\n",
    "\n",
    "dt = DecisionTree(criterion='entropy', max_depth=10, task='classification')\n",
    "\n",
    "stacking = Stacking(\n",
    "    level_0=[logistic, mlp, dt],\n",
    "    level_1=DecisionTree(criterion='entropy', max_depth=5, task='classification'),\n",
    "    frac=0.15,\n",
    "    method='holdout',\n",
    "    X=X_train_c,\n",
    "    y=y_train_c\n",
    ")\n",
    "\n",
    "stacking\n"
   ]
  },
  {
   "cell_type": "code",
   "execution_count": 11,
   "metadata": {},
   "outputs": [
    {
     "name": "stdout",
     "output_type": "stream",
     "text": [
      "epoch: 999 \tTrain:[loss:1.6188 acc:0.4172]]\n",
      "epoch: 999 \tTrain:[loss:1.3217 acc:0.5212]]\n",
      "Accuracy of decision tree: 0.908344733242134\n",
      "epoch: 999 \tTrain:[loss:1.2256 acc:0.5294]]\n",
      "epoch: 999 \tTrain:[loss:1.1210 acc:0.5800]]\n",
      "Accuracy of decision tree: 0.9069767441860465\n",
      "epoch: 999 \tTrain:[loss:1.1003 acc:0.5622]]\n",
      "epoch: 999 \tTrain:[loss:1.0114 acc:0.5992]]\n",
      "Accuracy of decision tree: 0.8727770177838577\n",
      "epoch: 999 \tTrain:[loss:1.0346 acc:0.6047]]\n",
      "epoch: 999 \tTrain:[loss:0.9299 acc:0.6238]]\n",
      "Accuracy of decision tree: 0.8467852257181943\n",
      "epoch: 999 \tTrain:[loss:0.9649 acc:0.6230]]\n",
      "epoch: 999 \tTrain:[loss:0.9182 acc:0.6243]]\n",
      "Accuracy of decision tree: 0.9084699453551912\n",
      "Level 1:\n",
      "Accuracy of decision tree: 0.6652078774617067\n",
      "Level 0:\n",
      "epoch: 999 \tTrain:[loss:0.9759 acc:0.6127]]\n",
      "epoch: 999 \tTrain:[loss:0.8917 acc:0.6204]]\n",
      "Accuracy of decision tree: 0.8194748358862144\n"
     ]
    }
   ],
   "source": [
    "stacking.train()"
   ]
  },
  {
   "cell_type": "code",
   "execution_count": 12,
   "metadata": {},
   "outputs": [
    {
     "data": {
      "text/plain": [
       "0.5502183406113537"
      ]
     },
     "execution_count": 12,
     "metadata": {},
     "output_type": "execute_result"
    }
   ],
   "source": [
    "y_pred_c = stacking.predict(X_val_c)\n",
    "accuracy_score(np.argmax(y_val_c, axis=-1), np.argmax(y_pred_c, axis=-1))"
   ]
  },
  {
   "cell_type": "code",
   "execution_count": 13,
   "metadata": {},
   "outputs": [
    {
     "data": {
      "text/plain": [
       "<__main__.Stacking at 0x7f403a16db20>"
      ]
     },
     "execution_count": 13,
     "metadata": {},
     "output_type": "execute_result"
    }
   ],
   "source": [
    "regression = Model(lr=5e-3, logger=None, loss_fxn=MSELoss(), type='regression', epochs=1000)\n",
    "regression.add(Layer(13, 1, Linear()))\n",
    "\n",
    "regression_meta = Model(lr=5e-3, logger=None, loss_fxn=MSELoss(), type='regression', epochs=1000)\n",
    "regression_meta.add(Layer(3, 1, Linear()))\n",
    "\n",
    "mlp = Model(lr=5e-3, logger=None, loss_fxn=MSELoss(), type='regression', epochs=1000)\n",
    "mlp.add(Layer(13, 16, Relu()))\n",
    "mlp.add(Layer(16, 16, Relu()))\n",
    "mlp.add(Layer(16, 1, Linear()))\n",
    "\n",
    "dt = DecisionTree(criterion='squared_error', max_depth=10, task='regression')\n",
    "\n",
    "stacking = Stacking(\n",
    "    level_0=[regression, mlp, dt],\n",
    "    level_1=regression_meta,\n",
    "    frac=0.15,\n",
    "    method='holdout',\n",
    "    X=X_train_r,\n",
    "    y=y_train_r\n",
    ")\n",
    "\n",
    "stacking"
   ]
  },
  {
   "cell_type": "code",
   "execution_count": 14,
   "metadata": {},
   "outputs": [
    {
     "name": "stdout",
     "output_type": "stream",
     "text": [
      "epoch: 999 \tTrain:[loss:0.2880 acc:0.7158]]\n",
      "epoch: 999 \tTrain:[loss:0.4389 acc:0.5669]]\n",
      "Accuracy of decision tree: 0.9912390730252666\n",
      "epoch: 999 \tTrain:[loss:0.2827 acc:0.7348]]\n",
      "epoch: 999 \tTrain:[loss:0.3521 acc:0.6697]]\n",
      "Accuracy of decision tree: 0.9869240340906972\n",
      "epoch: 999 \tTrain:[loss:0.2901 acc:0.7129]]\n",
      "epoch: 999 \tTrain:[loss:0.3051 acc:0.6980]]\n",
      "Accuracy of decision tree: 0.9851970973209988\n",
      "epoch: 999 \tTrain:[loss:0.2394 acc:0.7455]]\n",
      "epoch: 999 \tTrain:[loss:0.2711 acc:0.7118]]\n",
      "Accuracy of decision tree: 0.9928021314081754\n",
      "epoch: 999 \tTrain:[loss:0.2446 acc:0.7286]]\n",
      "epoch: 999 \tTrain:[loss:0.2370 acc:0.7370]]\n",
      "Accuracy of decision tree: 0.9851439044210383\n",
      "Level 1:\n",
      "epoch: 999 \tTrain:[loss:0.2311 acc:0.7658]]\n",
      "Level 0:\n",
      "epoch: 999 \tTrain:[loss:0.2705 acc:0.7259]]\n",
      "epoch: 999 \tTrain:[loss:0.2591 acc:0.7374]]\n",
      "Accuracy of decision tree: 0.9852998191060519\n"
     ]
    }
   ],
   "source": [
    "stacking.train()"
   ]
  },
  {
   "cell_type": "code",
   "execution_count": 15,
   "metadata": {},
   "outputs": [
    {
     "data": {
      "text/plain": [
       "0.8505474735905906"
      ]
     },
     "execution_count": 15,
     "metadata": {},
     "output_type": "execute_result"
    }
   ],
   "source": [
    "y_pred_r = stacking.predict(X_val_r)\n",
    "r2_score(y_val_r, y_pred_r)"
   ]
  },
  {
   "cell_type": "code",
   "execution_count": 17,
   "metadata": {},
   "outputs": [],
   "source": [
    "def find_best_model(X_train, y_train, X_val, y_val, level_0, level_1, accuracy_fxn, task, y_transform_function=None):\n",
    "    bar = tqdm(total=4)\n",
    "    \n",
    "    df = {\n",
    "        'level_1': [],\n",
    "        'method': [],\n",
    "        'train_acc': [],\n",
    "        'val_acc': [],\n",
    "        'time_taken': []\n",
    "        \n",
    "    }\n",
    "    counter = 0\n",
    "    \n",
    "    for level1 in level_1:\n",
    "        for method in ['blending', 'holdout']:\n",
    "            stacking = Stacking(\n",
    "                level_0=[copy.deepcopy(model) for model in level_0],\n",
    "                level_1=copy.deepcopy(level1),\n",
    "                method=method,\n",
    "                frac=0.15,\n",
    "                X=X_train,\n",
    "                y=y_train,   \n",
    "            )\n",
    "            \n",
    "            stacking.train()\n",
    "            \n",
    "            y_pred_train = stacking.predict(X_train)\n",
    "            y_pred_val = stacking.predict(X_val)\n",
    "                \n",
    "            acc_train = accuracy_fxn(y_transform_function(y_train, -1), y_transform_function(y_pred_train, -1))\n",
    "            acc_val = accuracy_fxn(y_transform_function(y_val, -1), y_transform_function(y_pred_val, -1))\n",
    "            \n",
    "            df['train_acc'].append(acc_train)\n",
    "            df['val_acc'].append(acc_val)\n",
    "            df['level_1'].append(level1)\n",
    "            df['method'].append(method)\n",
    "            df['time_taken'].append(stacking.time_taken)\n",
    "            \n",
    "            counter += 1\n",
    "            bar.update(1)\n",
    "            \n",
    "            print(X_train.shape, y_train.shape)\n",
    "            \n",
    "                    \n",
    "    df = pd.DataFrame(df).sort_values(by='val_acc', ascending=False)\n",
    "    \n",
    "    return df\n"
   ]
  },
  {
   "cell_type": "code",
   "execution_count": 18,
   "metadata": {},
   "outputs": [
    {
     "data": {
      "application/vnd.jupyter.widget-view+json": {
       "model_id": "dadf7a3381684413954628d7b3a081dd",
       "version_major": 2,
       "version_minor": 0
      },
      "text/plain": [
       "  0%|          | 0/4 [00:00<?, ?it/s]"
      ]
     },
     "metadata": {},
     "output_type": "display_data"
    },
    {
     "name": "stdout",
     "output_type": "stream",
     "text": [
      "Level 0:\n",
      "epoch: 999 \tTrain:[loss:0.2977 acc:0.6910]]\n",
      "epoch: 999 \tTrain:[loss:0.4432 acc:0.5399]]\n",
      "Accuracy of decision tree: 0.9834041647627584\n",
      "Level 1:\n",
      "epoch: 999 \tTrain:[loss:0.2075 acc:0.8076]]\n",
      "==============================\n",
      "(455, 13) (455, 1)\n",
      "epoch: 999 \tTrain:[loss:0.2896 acc:0.7142]]\n",
      "epoch: 999 \tTrain:[loss:0.4481 acc:0.5579]]\n",
      "Accuracy of decision tree: 0.9912390730252666\n",
      "epoch: 999 \tTrain:[loss:0.2816 acc:0.7358]]\n",
      "epoch: 999 \tTrain:[loss:0.3753 acc:0.6479]]\n",
      "Accuracy of decision tree: 0.9869240340906972\n",
      "epoch: 999 \tTrain:[loss:0.2896 acc:0.7133]]\n",
      "epoch: 999 \tTrain:[loss:0.3681 acc:0.6357]]\n",
      "Accuracy of decision tree: 0.9851970973209988\n",
      "epoch: 999 \tTrain:[loss:0.2390 acc:0.7459]]\n",
      "epoch: 999 \tTrain:[loss:0.2839 acc:0.6982]]\n",
      "Accuracy of decision tree: 0.9928021314081754\n",
      "epoch: 999 \tTrain:[loss:0.2446 acc:0.7286]]\n",
      "epoch: 999 \tTrain:[loss:0.2584 acc:0.7133]]\n",
      "Accuracy of decision tree: 0.9851439044210383\n",
      "Level 1:\n",
      "epoch: 999 \tTrain:[loss:0.2302 acc:0.7666]]\n",
      "Level 0:\n",
      "epoch: 999 \tTrain:[loss:0.2704 acc:0.7259]]\n",
      "epoch: 999 \tTrain:[loss:0.2853 acc:0.7109]]\n",
      "Accuracy of decision tree: 0.9852998191060519\n",
      "(455, 13) (455, 1)\n",
      "Level 0:\n",
      "epoch: 999 \tTrain:[loss:0.3019 acc:0.6878]]\n",
      "epoch: 999 \tTrain:[loss:0.4567 acc:0.5276]]\n",
      "Accuracy of decision tree: 0.9804242484415701\n",
      "Level 1:\n",
      "Accuracy of decision tree: 0.9749131803457195\n",
      "==============================\n",
      "(455, 13) (455, 1)\n",
      "epoch: 999 \tTrain:[loss:0.2896 acc:0.7142]]\n",
      "epoch: 999 \tTrain:[loss:0.4481 acc:0.5579]]\n",
      "Accuracy of decision tree: 0.9912390730252666\n",
      "epoch: 999 \tTrain:[loss:0.2816 acc:0.7358]]\n",
      "epoch: 999 \tTrain:[loss:0.3753 acc:0.6479]]\n",
      "Accuracy of decision tree: 0.9869240340906972\n",
      "epoch: 999 \tTrain:[loss:0.2896 acc:0.7133]]\n",
      "epoch: 999 \tTrain:[loss:0.3681 acc:0.6357]]\n",
      "Accuracy of decision tree: 0.9851970973209988\n",
      "epoch: 999 \tTrain:[loss:0.2390 acc:0.7459]]\n",
      "epoch: 999 \tTrain:[loss:0.2839 acc:0.6982]]\n",
      "Accuracy of decision tree: 0.9928021314081754\n",
      "epoch: 999 \tTrain:[loss:0.2446 acc:0.7286]]\n",
      "epoch: 999 \tTrain:[loss:0.2584 acc:0.7133]]\n",
      "Accuracy of decision tree: 0.9851439044210383\n",
      "Level 1:\n",
      "Accuracy of decision tree: 0.872826096169379\n",
      "Level 0:\n",
      "epoch: 999 \tTrain:[loss:0.2704 acc:0.7259]]\n",
      "epoch: 999 \tTrain:[loss:0.2853 acc:0.7109]]\n",
      "Accuracy of decision tree: 0.9852998191060519\n",
      "(455, 13) (455, 1)\n"
     ]
    }
   ],
   "source": [
    "def identity(x, axis):\n",
    "    return x\n",
    "\n",
    "regression = Model(lr=5e-3, logger=None, loss_fxn=MSELoss(), type='regression', epochs=1000)\n",
    "regression.add(Layer(13, 1, Linear()))\n",
    "\n",
    "regression_meta = Model(lr=5e-3, logger=None, loss_fxn=MSELoss(), type='regression', epochs=1000)\n",
    "regression_meta.add(Layer(3, 1, Linear()))\n",
    "\n",
    "mlp = Model(lr=5e-3, logger=None, loss_fxn=MSELoss(), type='regression', epochs=1000)\n",
    "mlp.add(Layer(13, 16, Relu()))\n",
    "mlp.add(Layer(16, 16, Relu()))\n",
    "mlp.add(Layer(16, 1, Linear()))\n",
    "\n",
    "dt = DecisionTree(criterion='squared_error', max_depth=10, task='regression')\n",
    "\n",
    "df_regression = find_best_model(\n",
    "    X_train=X_train_r,\n",
    "    y_train=y_train_r,\n",
    "    X_val=X_val_r,\n",
    "    y_val=y_val_r,\n",
    "    level_0=[regression, mlp, dt],\n",
    "    level_1=[regression_meta, DecisionTree(criterion='squared_error', max_depth=5, task='regression')],\n",
    "    accuracy_fxn=r2_score,\n",
    "    task='regression',\n",
    "    y_transform_function=identity\n",
    ")\n"
   ]
  },
  {
   "cell_type": "code",
   "execution_count": 19,
   "metadata": {},
   "outputs": [
    {
     "data": {
      "text/html": [
       "<div>\n",
       "<style scoped>\n",
       "    .dataframe tbody tr th:only-of-type {\n",
       "        vertical-align: middle;\n",
       "    }\n",
       "\n",
       "    .dataframe tbody tr th {\n",
       "        vertical-align: top;\n",
       "    }\n",
       "\n",
       "    .dataframe thead th {\n",
       "        text-align: right;\n",
       "    }\n",
       "</style>\n",
       "<table border=\"1\" class=\"dataframe\">\n",
       "  <thead>\n",
       "    <tr style=\"text-align: right;\">\n",
       "      <th></th>\n",
       "      <th>level_1</th>\n",
       "      <th>method</th>\n",
       "      <th>train_acc</th>\n",
       "      <th>val_acc</th>\n",
       "      <th>time_taken</th>\n",
       "    </tr>\n",
       "  </thead>\n",
       "  <tbody>\n",
       "    <tr>\n",
       "      <th>3</th>\n",
       "      <td>&lt;__main__.DecisionTree object at 0x7f408fb26130&gt;</td>\n",
       "      <td>holdout</td>\n",
       "      <td>0.875098</td>\n",
       "      <td>0.850149</td>\n",
       "      <td>12.163668</td>\n",
       "    </tr>\n",
       "    <tr>\n",
       "      <th>1</th>\n",
       "      <td>Layer: [in:3] [out:1] [activation:Linear]\\n</td>\n",
       "      <td>holdout</td>\n",
       "      <td>0.922403</td>\n",
       "      <td>0.847752</td>\n",
       "      <td>12.768725</td>\n",
       "    </tr>\n",
       "    <tr>\n",
       "      <th>2</th>\n",
       "      <td>&lt;__main__.DecisionTree object at 0x7f408fb26130&gt;</td>\n",
       "      <td>blending</td>\n",
       "      <td>0.765768</td>\n",
       "      <td>0.748452</td>\n",
       "      <td>2.088301</td>\n",
       "    </tr>\n",
       "    <tr>\n",
       "      <th>0</th>\n",
       "      <td>Layer: [in:3] [out:1] [activation:Linear]\\n</td>\n",
       "      <td>blending</td>\n",
       "      <td>0.826081</td>\n",
       "      <td>0.717198</td>\n",
       "      <td>2.435594</td>\n",
       "    </tr>\n",
       "  </tbody>\n",
       "</table>\n",
       "</div>"
      ],
      "text/plain": [
       "                                            level_1    method  train_acc  \\\n",
       "3  <__main__.DecisionTree object at 0x7f408fb26130>   holdout   0.875098   \n",
       "1       Layer: [in:3] [out:1] [activation:Linear]\\n   holdout   0.922403   \n",
       "2  <__main__.DecisionTree object at 0x7f408fb26130>  blending   0.765768   \n",
       "0       Layer: [in:3] [out:1] [activation:Linear]\\n  blending   0.826081   \n",
       "\n",
       "    val_acc  time_taken  \n",
       "3  0.850149   12.163668  \n",
       "1  0.847752   12.768725  \n",
       "2  0.748452    2.088301  \n",
       "0  0.717198    2.435594  "
      ]
     },
     "execution_count": 19,
     "metadata": {},
     "output_type": "execute_result"
    }
   ],
   "source": [
    "df_regression"
   ]
  },
  {
   "cell_type": "code",
   "execution_count": 20,
   "metadata": {},
   "outputs": [
    {
     "data": {
      "application/vnd.jupyter.widget-view+json": {
       "model_id": "8ffe47e456824d5a8bab1e28ab70d533",
       "version_major": 2,
       "version_minor": 0
      },
      "text/plain": [
       "  0%|          | 0/4 [00:00<?, ?it/s]"
      ]
     },
     "metadata": {},
     "output_type": "display_data"
    },
    {
     "name": "stdout",
     "output_type": "stream",
     "text": [
      "Level 0:\n",
      "epoch: 999 \tTrain:[loss:1.6424 acc:0.4391]]\n",
      "epoch: 999 \tTrain:[loss:1.2851 acc:0.5759]]\n",
      "Accuracy of decision tree: 0.9534883720930233\n",
      "Level 1:\n",
      "epoch: 999 \tTrain:[loss:1.2616 acc:0.4863]]\n",
      "==============================\n",
      "(914, 11) (914, 6)\n",
      "epoch: 999 \tTrain:[loss:1.6657 acc:0.4487]]\n",
      "epoch: 999 \tTrain:[loss:1.2654 acc:0.5828]]\n",
      "Accuracy of decision tree: 0.908344733242134\n",
      "epoch: 999 \tTrain:[loss:1.2469 acc:0.5527]]\n",
      "epoch: 999 \tTrain:[loss:1.0553 acc:0.6252]]\n",
      "Accuracy of decision tree: 0.920656634746922\n",
      "epoch: 999 \tTrain:[loss:1.1777 acc:0.5513]]\n",
      "epoch: 999 \tTrain:[loss:0.9689 acc:0.6320]]\n",
      "Accuracy of decision tree: 0.8727770177838577\n",
      "epoch: 999 \tTrain:[loss:1.0985 acc:0.5855]]\n",
      "epoch: 999 \tTrain:[loss:0.8989 acc:0.6402]]\n",
      "Accuracy of decision tree: 0.8467852257181943\n",
      "epoch: 999 \tTrain:[loss:1.0369 acc:0.6052]]\n",
      "epoch: 999 \tTrain:[loss:0.8673 acc:0.6516]]\n",
      "Accuracy of decision tree: 0.9084699453551912\n",
      "Level 1:\n",
      "epoch: 999 \tTrain:[loss:1.2545 acc:0.4891]]\n",
      "Level 0:\n",
      "epoch: 999 \tTrain:[loss:1.0315 acc:0.5919]]\n",
      "epoch: 999 \tTrain:[loss:0.8537 acc:0.6641]]\n",
      "Accuracy of decision tree: 0.8194748358862144\n",
      "(914, 11) (914, 6)\n",
      "Level 0:\n",
      "epoch: 999 \tTrain:[loss:1.6987 acc:0.4460]]\n",
      "epoch: 999 \tTrain:[loss:1.2832 acc:0.5746]]\n",
      "Accuracy of decision tree: 0.920656634746922\n",
      "Level 1:\n",
      "Accuracy of decision tree: 0.7486338797814208\n",
      "==============================\n",
      "(914, 11) (914, 6)\n",
      "epoch: 999 \tTrain:[loss:1.6657 acc:0.4487]]\n",
      "epoch: 999 \tTrain:[loss:1.2654 acc:0.5828]]\n",
      "Accuracy of decision tree: 0.908344733242134\n",
      "epoch: 999 \tTrain:[loss:1.2469 acc:0.5527]]\n",
      "epoch: 999 \tTrain:[loss:1.0553 acc:0.6252]]\n",
      "Accuracy of decision tree: 0.920656634746922\n",
      "epoch: 999 \tTrain:[loss:1.1777 acc:0.5513]]\n",
      "epoch: 999 \tTrain:[loss:0.9689 acc:0.6320]]\n",
      "Accuracy of decision tree: 0.8727770177838577\n",
      "epoch: 999 \tTrain:[loss:1.0985 acc:0.5855]]\n",
      "epoch: 999 \tTrain:[loss:0.8989 acc:0.6402]]\n",
      "Accuracy of decision tree: 0.8467852257181943\n",
      "epoch: 999 \tTrain:[loss:1.0369 acc:0.6052]]\n",
      "epoch: 999 \tTrain:[loss:0.8673 acc:0.6516]]\n",
      "Accuracy of decision tree: 0.9084699453551912\n",
      "Level 1:\n",
      "Accuracy of decision tree: 0.6301969365426696\n",
      "Level 0:\n",
      "epoch: 999 \tTrain:[loss:1.0315 acc:0.5919]]\n",
      "epoch: 999 \tTrain:[loss:0.8537 acc:0.6641]]\n",
      "Accuracy of decision tree: 0.8194748358862144\n",
      "(914, 11) (914, 6)\n"
     ]
    }
   ],
   "source": [
    "logistic_meta = Model(lr=5e-3, logger=None, loss_fxn=CrossEntropyLoss(), type='classification', epochs=1000)\n",
    "logistic_meta.add(Layer(18, 6, Softmax()))\n",
    "\n",
    "logistic = Model(lr=5e-3, logger=None, loss_fxn=CrossEntropyLoss(), type='classification', epochs=1000)\n",
    "logistic.add(Layer(11, 6, Softmax()))\n",
    "\n",
    "mlp = Model(lr=5e-3, logger=None, loss_fxn=CrossEntropyLoss(), type='classification', epochs=1000)\n",
    "mlp.add(Layer(11, 16, Relu()))\n",
    "mlp.add(Layer(16, 16, Relu()))\n",
    "mlp.add(Layer(16, 6, Softmax()))\n",
    "\n",
    "dt = DecisionTree(criterion='entropy', max_depth=10, task='classification')\n",
    "\n",
    "df_classification = find_best_model(\n",
    "    X_train=X_train_c,\n",
    "    y_train=y_train_c,\n",
    "    X_val=X_val_c,\n",
    "    y_val=y_val_c,\n",
    "    level_0=[logistic, mlp, dt],\n",
    "    level_1=[logistic_meta, DecisionTree(criterion='entropy', max_depth=5, task='classification')],\n",
    "    accuracy_fxn=accuracy_score,\n",
    "    task='classification',\n",
    "    y_transform_function=np.argmax\n",
    ")\n"
   ]
  },
  {
   "cell_type": "code",
   "execution_count": 21,
   "metadata": {},
   "outputs": [
    {
     "data": {
      "text/html": [
       "<div>\n",
       "<style scoped>\n",
       "    .dataframe tbody tr th:only-of-type {\n",
       "        vertical-align: middle;\n",
       "    }\n",
       "\n",
       "    .dataframe tbody tr th {\n",
       "        vertical-align: top;\n",
       "    }\n",
       "\n",
       "    .dataframe thead th {\n",
       "        text-align: right;\n",
       "    }\n",
       "</style>\n",
       "<table border=\"1\" class=\"dataframe\">\n",
       "  <thead>\n",
       "    <tr style=\"text-align: right;\">\n",
       "      <th></th>\n",
       "      <th>level_1</th>\n",
       "      <th>method</th>\n",
       "      <th>train_acc</th>\n",
       "      <th>val_acc</th>\n",
       "      <th>time_taken</th>\n",
       "    </tr>\n",
       "  </thead>\n",
       "  <tbody>\n",
       "    <tr>\n",
       "      <th>3</th>\n",
       "      <td>&lt;__main__.DecisionTree object at 0x7f403a5d8c40&gt;</td>\n",
       "      <td>holdout</td>\n",
       "      <td>0.603939</td>\n",
       "      <td>0.545852</td>\n",
       "      <td>30.490130</td>\n",
       "    </tr>\n",
       "    <tr>\n",
       "      <th>0</th>\n",
       "      <td>Layer: [in:18] [out:6] [activation:Softmax]\\n</td>\n",
       "      <td>blending</td>\n",
       "      <td>0.507659</td>\n",
       "      <td>0.458515</td>\n",
       "      <td>5.109774</td>\n",
       "    </tr>\n",
       "    <tr>\n",
       "      <th>1</th>\n",
       "      <td>Layer: [in:18] [out:6] [activation:Softmax]\\n</td>\n",
       "      <td>holdout</td>\n",
       "      <td>0.507659</td>\n",
       "      <td>0.454148</td>\n",
       "      <td>27.930266</td>\n",
       "    </tr>\n",
       "    <tr>\n",
       "      <th>2</th>\n",
       "      <td>&lt;__main__.DecisionTree object at 0x7f403a5d8c40&gt;</td>\n",
       "      <td>blending</td>\n",
       "      <td>0.535011</td>\n",
       "      <td>0.414847</td>\n",
       "      <td>4.047029</td>\n",
       "    </tr>\n",
       "  </tbody>\n",
       "</table>\n",
       "</div>"
      ],
      "text/plain": [
       "                                            level_1    method  train_acc  \\\n",
       "3  <__main__.DecisionTree object at 0x7f403a5d8c40>   holdout   0.603939   \n",
       "0     Layer: [in:18] [out:6] [activation:Softmax]\\n  blending   0.507659   \n",
       "1     Layer: [in:18] [out:6] [activation:Softmax]\\n   holdout   0.507659   \n",
       "2  <__main__.DecisionTree object at 0x7f403a5d8c40>  blending   0.535011   \n",
       "\n",
       "    val_acc  time_taken  \n",
       "3  0.545852   30.490130  \n",
       "0  0.458515    5.109774  \n",
       "1  0.454148   27.930266  \n",
       "2  0.414847    4.047029  "
      ]
     },
     "execution_count": 21,
     "metadata": {},
     "output_type": "execute_result"
    }
   ],
   "source": [
    "df_classification"
   ]
  },
  {
   "cell_type": "markdown",
   "metadata": {},
   "source": [
    "### Analysis\n",
    "\n",
    "The following uses data from the above dataframes and accuracy reported is that of validation accuracy.\n",
    "\n",
    "1. Regression:\n",
    "    1. Stacking: accuracy=0.85, time_taken= 12s\n",
    "    2. Bagging:\n",
    "        - Linear Regression: accuracy=0.79, time_taken=4.8s\n",
    "        - MLP: accuracy=0.67, time_taken=16.3s\n",
    "        - Decision Tree: accuracy=0.82, time_taken=3.41s \n",
    "<br><br>\n",
    "\n",
    "2. Classification:\n",
    "    1. Stacking: accuracy=0.54, time_taken= 30s\n",
    "    2. Bagging:\n",
    "        - Logistic Regression: accuracy=0.22, time_taken=10.65s\n",
    "        - MLP: accuracy=0.40, time_taken=25.3s\n",
    "        - Decision Tree: accuracy=0.60, time_taken=6.41s"
   ]
  }
 ],
 "metadata": {
  "kernelspec": {
   "display_name": "env",
   "language": "python",
   "name": "python3"
  },
  "language_info": {
   "codemirror_mode": {
    "name": "ipython",
    "version": 3
   },
   "file_extension": ".py",
   "mimetype": "text/x-python",
   "name": "python",
   "nbconvert_exporter": "python",
   "pygments_lexer": "ipython3",
   "version": "3.8.10"
  }
 },
 "nbformat": 4,
 "nbformat_minor": 2
}
